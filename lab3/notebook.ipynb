{
  "cells": [
    {
      "cell_type": "markdown",
      "metadata": {
        "id": "9V9Wm_YtjTmf"
      },
      "source": [
        "### 1. Описание набора данных"
      ]
    },
    {
      "cell_type": "markdown",
      "metadata": {
        "id": "SCMskZmDjTmm"
      },
      "source": [
        "Набор данных ```German Credit``` содержит сведения о людях, которые берют кредит в банке, где каждый человек классифицируется как хороший или плохой заемщик (кредитный риск)."
      ]
    },
    {
      "cell_type": "markdown",
      "metadata": {
        "id": "X5FR7lMyjTmn"
      },
      "source": [
        "### 2. Импорт библиотек"
      ]
    },
    {
      "cell_type": "code",
      "execution_count": null,
      "metadata": {
        "id": "lArbItEujTmo"
      },
      "outputs": [],
      "source": [
        "import logging\n",
        "import matplotlib.pyplot as plt\n",
        "import numpy as np\n",
        "import os\n",
        "import pandas as pd\n",
        "import urllib.request\n",
        "import warnings\n",
        "\n",
        "from sklearn.preprocessing import PowerTransformer, StandardScaler\n",
        "from sklearn.model_selection import train_test_split, GridSearchCV\n",
        "# from sklearn.ensemble import HistGradientBoostingClassifier\n",
        "# from sklearn.metrics import (classification_report,\n",
        "#                              accuracy_score,\n",
        "#                              recall_score,\n",
        "#                              f1_score,\n",
        "#                              roc_auc_score,\n",
        "#                              confusion_matrix,\n",
        "#                              mean_squared_error,\n",
        "#                              )\n",
        "# from sklearn.inspection import permutation_importance\n",
        "\n",
        "# from catboost import CatBoostClassifier\n",
        "\n",
        "# import optuna\n",
        "\n",
        "# import matplotlib.pyplot as plt\n"
      ]
    },
    {
      "cell_type": "code",
      "execution_count": null,
      "metadata": {
        "id": "dxeSsZdQjTmq"
      },
      "outputs": [],
      "source": [
        "warnings.filterwarnings('ignore')\n",
        "logging.getLogger('matplotlib').setLevel(logging.ERROR)"
      ]
    },
    {
      "cell_type": "markdown",
      "metadata": {
        "id": "PBhHJImNjTmq"
      },
      "source": [
        "### 3. Определение функций"
      ]
    },
    {
      "cell_type": "code",
      "execution_count": 46,
      "metadata": {},
      "outputs": [
        {
          "ename": "NameError",
          "evalue": "name 'columns' is not defined",
          "output_type": "error",
          "traceback": [
            "\u001b[1;31m---------------------------------------------------------------------------\u001b[0m",
            "\u001b[1;31mNameError\u001b[0m                                 Traceback (most recent call last)",
            "Cell \u001b[1;32mIn[46], line 12\u001b[0m\n\u001b[0;32m      9\u001b[0m     kcorr \u001b[38;5;241m=\u001b[39m k \u001b[38;5;241m-\u001b[39m ((k\u001b[38;5;241m-\u001b[39m\u001b[38;5;241m1\u001b[39m)\u001b[38;5;241m*\u001b[39m\u001b[38;5;241m*\u001b[39m\u001b[38;5;241m2\u001b[39m)\u001b[38;5;241m/\u001b[39m(n\u001b[38;5;241m-\u001b[39m\u001b[38;5;241m1\u001b[39m)\n\u001b[0;32m     10\u001b[0m     \u001b[38;5;28;01mreturn\u001b[39;00m np\u001b[38;5;241m.\u001b[39msqrt(phi2corr \u001b[38;5;241m/\u001b[39m \u001b[38;5;28mmin\u001b[39m((kcorr\u001b[38;5;241m-\u001b[39m\u001b[38;5;241m1\u001b[39m), (rcorr\u001b[38;5;241m-\u001b[39m\u001b[38;5;241m1\u001b[39m)))\n\u001b[1;32m---> 12\u001b[0m \u001b[38;5;28;01mfor\u001b[39;00m column \u001b[38;5;129;01min\u001b[39;00m \u001b[43mcolumns\u001b[49m:\n\u001b[0;32m     13\u001b[0m     cramers_v_result \u001b[38;5;241m=\u001b[39m cramers_v(df[column], y)\n\u001b[0;32m     14\u001b[0m     \u001b[38;5;28mprint\u001b[39m(\u001b[38;5;124mf\u001b[39m\u001b[38;5;124m\"\u001b[39m\u001b[38;5;132;01m{\u001b[39;00mcolumn\u001b[38;5;132;01m:\u001b[39;00m\u001b[38;5;124m<35\u001b[39m\u001b[38;5;132;01m}\u001b[39;00m\u001b[38;5;124m \u001b[39m\u001b[38;5;132;01m{\u001b[39;00mcramers_v_result\u001b[38;5;132;01m:\u001b[39;00m\u001b[38;5;124m.2f\u001b[39m\u001b[38;5;132;01m}\u001b[39;00m\u001b[38;5;124m\"\u001b[39m)\n",
            "\u001b[1;31mNameError\u001b[0m: name 'columns' is not defined"
          ]
        }
      ],
      "source": [
        "def cramers_v(x, y):\n",
        "    confusion_matrix = pd.crosstab(x, y)\n",
        "    chi2 = ss.chi2_contingency(confusion_matrix)[0]\n",
        "    n = confusion_matrix.sum().sum()\n",
        "    phi2 = chi2 / n\n",
        "    r, k = confusion_matrix.shape\n",
        "    phi2corr = max(0, phi2 - ((k-1)*(r-1))/(n-1))\n",
        "    rcorr = r - ((r-1)**2)/(n-1)\n",
        "    kcorr = k - ((k-1)**2)/(n-1)\n",
        "    return np.sqrt(phi2corr / min((kcorr-1), (rcorr-1)))"
      ]
    },
    {
      "cell_type": "markdown",
      "metadata": {
        "id": "0ICufi8wjTmr"
      },
      "source": [
        "### 4. Создание каталога и скачивание данных"
      ]
    },
    {
      "cell_type": "code",
      "execution_count": null,
      "metadata": {
        "id": "YFbWQsEXjTms"
      },
      "outputs": [],
      "source": [
        "if not os.path.exists('data'):\n",
        "  os.makedirs('data')\n",
        "\n",
        "if not os.path.exists('data/german_credit.csv'):\n",
        "  urllib.request.urlretrieve('https://raw.githubusercontent.com/Losyash/mbml_II_hw/refs/heads/main/lab3/data/german_credit.csv', 'data/german_credit.csv')"
      ]
    },
    {
      "cell_type": "markdown",
      "metadata": {
        "id": "ZJ8YydsmjTms"
      },
      "source": [
        "### 5. Загрузка набора данных из файла"
      ]
    },
    {
      "cell_type": "code",
      "execution_count": null,
      "metadata": {
        "id": "bHu-LYHujTmt",
        "outputId": "95849957-3c2a-47fb-b2b3-063da9645d5e"
      },
      "outputs": [
        {
          "data": {
            "text/html": [
              "<div>\n",
              "<style scoped>\n",
              "    .dataframe tbody tr th:only-of-type {\n",
              "        vertical-align: middle;\n",
              "    }\n",
              "\n",
              "    .dataframe tbody tr th {\n",
              "        vertical-align: top;\n",
              "    }\n",
              "\n",
              "    .dataframe thead th {\n",
              "        text-align: right;\n",
              "    }\n",
              "</style>\n",
              "<table border=\"1\" class=\"dataframe\">\n",
              "  <thead>\n",
              "    <tr style=\"text-align: right;\">\n",
              "      <th></th>\n",
              "      <th>Creditability</th>\n",
              "      <th>Account Balance</th>\n",
              "      <th>Duration of Credit (month)</th>\n",
              "      <th>Payment Status of Previous Credit</th>\n",
              "      <th>Purpose</th>\n",
              "      <th>Credit Amount</th>\n",
              "      <th>Value Savings/Stocks</th>\n",
              "      <th>Length of current employment</th>\n",
              "      <th>Instalment per cent</th>\n",
              "      <th>Sex &amp; Marital Status</th>\n",
              "      <th>...</th>\n",
              "      <th>Duration in Current address</th>\n",
              "      <th>Most valuable available asset</th>\n",
              "      <th>Age (years)</th>\n",
              "      <th>Concurrent Credits</th>\n",
              "      <th>Type of apartment</th>\n",
              "      <th>No of Credits at this Bank</th>\n",
              "      <th>Occupation</th>\n",
              "      <th>No of dependents</th>\n",
              "      <th>Telephone</th>\n",
              "      <th>Foreign Worker</th>\n",
              "    </tr>\n",
              "  </thead>\n",
              "  <tbody>\n",
              "    <tr>\n",
              "      <th>0</th>\n",
              "      <td>1</td>\n",
              "      <td>1</td>\n",
              "      <td>18</td>\n",
              "      <td>4</td>\n",
              "      <td>2</td>\n",
              "      <td>1049</td>\n",
              "      <td>1</td>\n",
              "      <td>2</td>\n",
              "      <td>4</td>\n",
              "      <td>2</td>\n",
              "      <td>...</td>\n",
              "      <td>4</td>\n",
              "      <td>2</td>\n",
              "      <td>21</td>\n",
              "      <td>3</td>\n",
              "      <td>1</td>\n",
              "      <td>1</td>\n",
              "      <td>3</td>\n",
              "      <td>1</td>\n",
              "      <td>1</td>\n",
              "      <td>1</td>\n",
              "    </tr>\n",
              "    <tr>\n",
              "      <th>1</th>\n",
              "      <td>1</td>\n",
              "      <td>1</td>\n",
              "      <td>9</td>\n",
              "      <td>4</td>\n",
              "      <td>0</td>\n",
              "      <td>2799</td>\n",
              "      <td>1</td>\n",
              "      <td>3</td>\n",
              "      <td>2</td>\n",
              "      <td>3</td>\n",
              "      <td>...</td>\n",
              "      <td>2</td>\n",
              "      <td>1</td>\n",
              "      <td>36</td>\n",
              "      <td>3</td>\n",
              "      <td>1</td>\n",
              "      <td>2</td>\n",
              "      <td>3</td>\n",
              "      <td>2</td>\n",
              "      <td>1</td>\n",
              "      <td>1</td>\n",
              "    </tr>\n",
              "    <tr>\n",
              "      <th>2</th>\n",
              "      <td>1</td>\n",
              "      <td>2</td>\n",
              "      <td>12</td>\n",
              "      <td>2</td>\n",
              "      <td>9</td>\n",
              "      <td>841</td>\n",
              "      <td>2</td>\n",
              "      <td>4</td>\n",
              "      <td>2</td>\n",
              "      <td>2</td>\n",
              "      <td>...</td>\n",
              "      <td>4</td>\n",
              "      <td>1</td>\n",
              "      <td>23</td>\n",
              "      <td>3</td>\n",
              "      <td>1</td>\n",
              "      <td>1</td>\n",
              "      <td>2</td>\n",
              "      <td>1</td>\n",
              "      <td>1</td>\n",
              "      <td>1</td>\n",
              "    </tr>\n",
              "    <tr>\n",
              "      <th>3</th>\n",
              "      <td>1</td>\n",
              "      <td>1</td>\n",
              "      <td>12</td>\n",
              "      <td>4</td>\n",
              "      <td>0</td>\n",
              "      <td>2122</td>\n",
              "      <td>1</td>\n",
              "      <td>3</td>\n",
              "      <td>3</td>\n",
              "      <td>3</td>\n",
              "      <td>...</td>\n",
              "      <td>2</td>\n",
              "      <td>1</td>\n",
              "      <td>39</td>\n",
              "      <td>3</td>\n",
              "      <td>1</td>\n",
              "      <td>2</td>\n",
              "      <td>2</td>\n",
              "      <td>2</td>\n",
              "      <td>1</td>\n",
              "      <td>2</td>\n",
              "    </tr>\n",
              "    <tr>\n",
              "      <th>4</th>\n",
              "      <td>1</td>\n",
              "      <td>1</td>\n",
              "      <td>12</td>\n",
              "      <td>4</td>\n",
              "      <td>0</td>\n",
              "      <td>2171</td>\n",
              "      <td>1</td>\n",
              "      <td>3</td>\n",
              "      <td>4</td>\n",
              "      <td>3</td>\n",
              "      <td>...</td>\n",
              "      <td>4</td>\n",
              "      <td>2</td>\n",
              "      <td>38</td>\n",
              "      <td>1</td>\n",
              "      <td>2</td>\n",
              "      <td>2</td>\n",
              "      <td>2</td>\n",
              "      <td>1</td>\n",
              "      <td>1</td>\n",
              "      <td>2</td>\n",
              "    </tr>\n",
              "  </tbody>\n",
              "</table>\n",
              "<p>5 rows × 21 columns</p>\n",
              "</div>"
            ],
            "text/plain": [
              "   Creditability  Account Balance  Duration of Credit (month)  \\\n",
              "0              1                1                          18   \n",
              "1              1                1                           9   \n",
              "2              1                2                          12   \n",
              "3              1                1                          12   \n",
              "4              1                1                          12   \n",
              "\n",
              "   Payment Status of Previous Credit  Purpose  Credit Amount  \\\n",
              "0                                  4        2           1049   \n",
              "1                                  4        0           2799   \n",
              "2                                  2        9            841   \n",
              "3                                  4        0           2122   \n",
              "4                                  4        0           2171   \n",
              "\n",
              "   Value Savings/Stocks  Length of current employment  Instalment per cent  \\\n",
              "0                     1                             2                    4   \n",
              "1                     1                             3                    2   \n",
              "2                     2                             4                    2   \n",
              "3                     1                             3                    3   \n",
              "4                     1                             3                    4   \n",
              "\n",
              "   Sex & Marital Status  ...  Duration in Current address  \\\n",
              "0                     2  ...                            4   \n",
              "1                     3  ...                            2   \n",
              "2                     2  ...                            4   \n",
              "3                     3  ...                            2   \n",
              "4                     3  ...                            4   \n",
              "\n",
              "   Most valuable available asset  Age (years)  Concurrent Credits  \\\n",
              "0                              2           21                   3   \n",
              "1                              1           36                   3   \n",
              "2                              1           23                   3   \n",
              "3                              1           39                   3   \n",
              "4                              2           38                   1   \n",
              "\n",
              "   Type of apartment  No of Credits at this Bank  Occupation  \\\n",
              "0                  1                           1           3   \n",
              "1                  1                           2           3   \n",
              "2                  1                           1           2   \n",
              "3                  1                           2           2   \n",
              "4                  2                           2           2   \n",
              "\n",
              "   No of dependents  Telephone  Foreign Worker  \n",
              "0                 1          1               1  \n",
              "1                 2          1               1  \n",
              "2                 1          1               1  \n",
              "3                 2          1               2  \n",
              "4                 1          1               2  \n",
              "\n",
              "[5 rows x 21 columns]"
            ]
          },
          "execution_count": 21,
          "metadata": {},
          "output_type": "execute_result"
        }
      ],
      "source": [
        "df = pd.read_csv('data/german_credit.csv')\n",
        "df.head()"
      ]
    },
    {
      "cell_type": "markdown",
      "metadata": {
        "id": "4wRamHM3jTmu"
      },
      "source": [
        "### 6. Предварительный анализ и обработка данных данных"
      ]
    },
    {
      "cell_type": "code",
      "execution_count": null,
      "metadata": {
        "id": "IgYONQLkjTmu",
        "outputId": "b6a512ed-76bf-4314-f940-dba890cbe3d8"
      },
      "outputs": [
        {
          "name": "stdout",
          "output_type": "stream",
          "text": [
            "<class 'pandas.core.frame.DataFrame'>\n",
            "RangeIndex: 1000 entries, 0 to 999\n",
            "Data columns (total 21 columns):\n",
            " #   Column                             Non-Null Count  Dtype\n",
            "---  ------                             --------------  -----\n",
            " 0   Creditability                      1000 non-null   int64\n",
            " 1   Account Balance                    1000 non-null   int64\n",
            " 2   Duration of Credit (month)         1000 non-null   int64\n",
            " 3   Payment Status of Previous Credit  1000 non-null   int64\n",
            " 4   Purpose                            1000 non-null   int64\n",
            " 5   Credit Amount                      1000 non-null   int64\n",
            " 6   Value Savings/Stocks               1000 non-null   int64\n",
            " 7   Length of current employment       1000 non-null   int64\n",
            " 8   Instalment per cent                1000 non-null   int64\n",
            " 9   Sex & Marital Status               1000 non-null   int64\n",
            " 10  Guarantors                         1000 non-null   int64\n",
            " 11  Duration in Current address        1000 non-null   int64\n",
            " 12  Most valuable available asset      1000 non-null   int64\n",
            " 13  Age (years)                        1000 non-null   int64\n",
            " 14  Concurrent Credits                 1000 non-null   int64\n",
            " 15  Type of apartment                  1000 non-null   int64\n",
            " 16  No of Credits at this Bank         1000 non-null   int64\n",
            " 17  Occupation                         1000 non-null   int64\n",
            " 18  No of dependents                   1000 non-null   int64\n",
            " 19  Telephone                          1000 non-null   int64\n",
            " 20  Foreign Worker                     1000 non-null   int64\n",
            "dtypes: int64(21)\n",
            "memory usage: 164.2 KB\n"
          ]
        }
      ],
      "source": [
        "df.info()"
      ]
    },
    {
      "cell_type": "markdown",
      "metadata": {
        "id": "lERE_liEjTmv"
      },
      "source": [
        "#### 6.1. Разделение набора данных на набор с признаками и целефой переменной"
      ]
    },
    {
      "cell_type": "code",
      "execution_count": null,
      "metadata": {
        "id": "tkzFM6oIjTmv"
      },
      "outputs": [],
      "source": [
        "X, y = df.drop(columns = ['Creditability']), df['Creditability']"
      ]
    },
    {
      "cell_type": "markdown",
      "metadata": {
        "id": "o7wXy0n0jTmv"
      },
      "source": [
        "#### 6.2. Вывод гистограмм распределения признаков"
      ]
    },
    {
      "cell_type": "code",
      "execution_count": null,
      "metadata": {
        "id": "z_8FqmkujTmv",
        "outputId": "52009dfc-736c-45f5-9a04-31980fbe3f89"
      },
      "outputs": [
        {
          "data": {
            "image/png": "[encoded data removed]",
            "text/plain": [
              "<Figure size 1600x1000 with 20 Axes>"
            ]
          },
          "metadata": {},
          "output_type": "display_data"
        }
      ],
      "source": [
        "num_rows = 4\n",
        "num_columns = 5\n",
        "\n",
        "fig, axes = plt.subplots(nrows=num_rows, ncols=num_columns, figsize=(16, 10))\n",
        "\n",
        "for i, column in enumerate(X.columns):\n",
        "  row = i // num_columns\n",
        "  col = i % num_columns\n",
        "\n",
        "  X[column].hist(ax=axes[row, col], bins=10)\n",
        "  axes[row, col].set_title(column)\n",
        "\n",
        "plt.subplots_adjust(left=0, right=0.8, bottom=0, top=0.9, wspace=0.3, hspace=0.4)\n",
        "plt.show()"
      ]
    },
    {
      "cell_type": "markdown",
      "metadata": {
        "id": "KsUu0RrKjTmv"
      },
      "source": [
        "#### 6.3. Выделение категориальных и числовых признаков"
      ]
    },
    {
      "cell_type": "code",
      "execution_count": null,
      "metadata": {
        "id": "WhoetMXajTmw"
      },
      "outputs": [],
      "source": [
        "categorical_columns = [\n",
        "  'Account Balance',\n",
        "  'Concurrent Credits',\n",
        "  'Duration in Current address',\n",
        "  'Foreign Worker',\n",
        "  'Guarantors',\n",
        "  'Instalment per cent',\n",
        "  'Length of current employment',\n",
        "  'Most valuable available asset',\n",
        "  'No of Credits at this Bank',\n",
        "  'No of dependents',\n",
        "  'Occupation',\n",
        "  'Payment Status of Previous Credit',\n",
        "  'Purpose',\n",
        "  'Sex & Marital Status',\n",
        "  'Telephone',\n",
        "  'Type of apartment',\n",
        "  'Value Savings/Stocks'\n",
        "]\n",
        "\n",
        "numeric_columns = [\n",
        "  'Age (years)',\n",
        "  'Credit Amount',\n",
        "  'Duration of Credit (month)'\n",
        "]"
      ]
    },
    {
      "cell_type": "markdown",
      "metadata": {
        "id": "vWqsZjEljTmw"
      },
      "source": [
        "#### 6.4. Масштабирование числовых признаков"
      ]
    },
    {
      "cell_type": "code",
      "execution_count": null,
      "metadata": {
        "id": "Bm1zFDfejTmw"
      },
      "outputs": [],
      "source": [
        "scaler = StandardScaler()\n",
        "\n",
        "data_scaled = scaler.fit_transform(X[numeric_columns])\n",
        "df_scaled = pd.DataFrame(data_scaled, columns=numeric_columns)\n",
        "\n",
        "df_processed = pd.concat([X.drop(columns=numeric_columns), df_scaled], axis=1)"
      ]
    },
    {
      "cell_type": "markdown",
      "metadata": {
        "id": "DhHaisJYjTmw"
      },
      "source": [
        "#### 6.5. Отображение числовых признаков в гауссово распределение"
      ]
    },
    {
      "cell_type": "code",
      "execution_count": null,
      "metadata": {
        "id": "5hRTtTtsjTmw"
      },
      "outputs": [],
      "source": [
        "transformer = PowerTransformer(method='yeo-johnson')\n",
        "\n",
        "data_transformed = transformer.fit_transform(df_scaled)\n",
        "df_transformed = pd.DataFrame(data_transformed, columns=df_scaled.columns)\n",
        "\n",
        "df_processed = pd.concat([X.drop(columns=numeric_columns), df_transformed], axis=1)"
      ]
    },
    {
      "cell_type": "markdown",
      "metadata": {
        "id": "ftNuROfrjTmx"
      },
      "source": [
        "### 7. Выдвижение начальных гипотез"
      ]
    },
    {
      "cell_type": "markdown",
      "metadata": {
        "id": "cpeRgc5WjpfH"
      },
      "source": [
        "#### 7.1. Расчет коэффициента корреляции Пирсона"
      ]
    },
    {
      "cell_type": "code",
      "execution_count": null,
      "metadata": {
        "id": "DUAkhv6ijTmx",
        "outputId": "932dfba6-4634-49d2-dec5-e05d2f9e7d70"
      },
      "outputs": [
        {
          "data": {
            "text/plain": [
              "Age (years)                   0.109702\n",
              "Credit Amount                -0.103795\n",
              "Duration of Credit (month)   -0.213698\n",
              "dtype: float64"
            ]
          },
          "execution_count": 44,
          "metadata": {},
          "output_type": "execute_result"
        }
      ],
      "source": [
        "correlations = df_processed[numeric_columns].corrwith(y)\n",
        "correlations"
      ]
    },
    {
      "cell_type": "markdown",
      "metadata": {
        "id": "MU9aF2GajTmx"
      },
      "source": [
        "Корреляция не высока, но логична:\n",
        "- чем меньше срок и величина кредита, тем вероятней одобрят кредит,\n",
        "- чем старше заемщик, тем менее вероятно одобрят кредит."
      ]
    },
    {
      "cell_type": "markdown",
      "metadata": {
        "id": "Fq1Ly_ObjTmx"
      },
      "source": [
        "Для анализа корреляции между категориальными переменными и целевой переменой воспользуемся коэффициентом Cramer's V, который является статистической мерой, используемой для оценки степени ассоциации между двумя категориальными переменными. Значение коэффициента Cramer's V варьируется от 0 до 1, где 0 указывает на отсутствие ассоциации, а 1 на сильную ассоциацию."
      ]
    },
    {
      "cell_type": "code",
      "execution_count": null,
      "metadata": {
        "id": "jftLoIQ5jTmy"
      },
      "outputs": [],
      "source": [
        "\n",
        "for column in categorical_columns:\n",
        "    cramers_v_result = cramers_v(df_processed[column], y)\n",
        "    print(f\"{column:<35} {cramers_v_result:.2f}\")"
      ]
    },
    {
      "cell_type": "code",
      "execution_count": null,
      "metadata": {
        "id": "ZQs4rw7ojTmy"
      },
      "outputs": [],
      "source": [
        "# Функция cramers_col применяет cramers_v к каждой паре переменных в наборе,\n",
        "# создавая новый набор данных, где каждый столбец соответствует одной из\n",
        "# исходных категориальных переменных, а значения в каждом столбце представляют\n",
        "# собой Cramer's V для пары этой переменной с каждой из других переменных.\n",
        "def cramers_col(column_name):\n",
        "    col = pd.Series(np.empty(X[category_columns].columns.shape), index=X[category_columns].columns, name=column_name)\n",
        "    for row in X[category_columns]:\n",
        "        cram = cramers_v(X[category_columns][column_name], X[category_columns][row])\n",
        "        col[row] = round(cram, 2)\n",
        "    return col\n",
        "\n",
        "# Вычисление Cramer's V для всех пар категориальных переменных\n",
        "cramers_df = X[category_columns].apply(lambda column: cramers_col(column.name))\n",
        "\n",
        "# Вывод результатов\n",
        "# Выведем тепловую карту для cramers_df\n",
        "plt.figure(figsize=(10, 8)) # Установка размера фигуры\n",
        "sns.heatmap(cramers_df, annot=True, cmap='coolwarm', fmt=\".2f\")\n",
        "plt.title('Тепловая карта коэффициента Cramer\\'s V') # Заголовок тепловой карты\n",
        "plt.show() # Отображение тепловой карты"
      ]
    },
    {
      "cell_type": "markdown",
      "metadata": {
        "id": "BXX-acKZjTmy"
      },
      "source": [
        "`Duration of Credit (month)`, `Account Balance`, `Payment Status of Previous Credit` могут быть наиболее полезны для решения поставленной задачи.\n",
        "\n",
        "Наименее полезными могут быть следующие признаки:\n",
        "- Instalment per cent\n",
        "- Sex & Marital Status\n",
        "- Guarantors\n",
        "- Duration in Current address\n",
        "- No of Credits at this Bank\n",
        "- Occupation\n",
        "- No of dependents\n",
        "- Telephone\n",
        "- Foreign Worker\n",
        "\n",
        "Отметим, что `Most valuable available asset` довольно сильно коррелирует с `Type of apartment` (тут можно сделать предположение, что так как `Type of apartment` относится к типу жилья, в котором проживает заемщик, а `Most valuable available asset` к наиболее ценному доступному активу, то логично, что обладание более дорогими жилищными условиями в свою очередь, может отражаться в наиболее ценных активах.)\n",
        "\n",
        "Также сильно коррелируют между собой `Payment Status of Previous Credit` и `No of Credits at this Bank`, `Occupation` и `Telephone`.\n",
        "\n",
        "Возможно, какие-то из этих пар признаков можно заменить одним, что уменьшит размерность данных, и, вероятно, положительно скажется на обучении модели."
      ]
    },
    {
      "cell_type": "markdown",
      "metadata": {
        "id": "N_9N7FWyjTmy"
      },
      "source": [
        "### 8. Разделение данных на тренировочный и тестовые"
      ]
    },
    {
      "cell_type": "code",
      "execution_count": null,
      "metadata": {
        "id": "ZVhC72UNjTmy",
        "outputId": "d0c77b6b-0111-4711-de50-1b069592281b"
      },
      "outputs": [
        {
          "ename": "NameError",
          "evalue": "name 'train_test_split' is not defined",
          "output_type": "error",
          "traceback": [
            "\u001b[1;31m---------------------------------------------------------------------------\u001b[0m",
            "\u001b[1;31mNameError\u001b[0m                                 Traceback (most recent call last)",
            "Cell \u001b[1;32mIn[45], line 1\u001b[0m\n\u001b[1;32m----> 1\u001b[0m X_train, X_test, y_train, y_test \u001b[38;5;241m=\u001b[39m \u001b[43mtrain_test_split\u001b[49m(df_processed, y, test_size\u001b[38;5;241m=\u001b[39m\u001b[38;5;241m0.25\u001b[39m, random_state\u001b[38;5;241m=\u001b[39m\u001b[38;5;241m42\u001b[39m)\n",
            "\u001b[1;31mNameError\u001b[0m: name 'train_test_split' is not defined"
          ]
        }
      ],
      "source": [
        "X_train, X_test, y_train, y_test = train_test_split(df_processed, y, test_size=0.25, random_state=42)"
      ]
    },
    {
      "cell_type": "markdown",
      "metadata": {
        "id": "HsjX9ggFGGbd"
      },
      "source": [
        "# Выбор моделей для классификации"
      ]
    },
    {
      "cell_type": "markdown",
      "metadata": {
        "id": "EXScI10nGJi9"
      },
      "source": [
        "## Выбор ансамблевой модели из scikit-learn"
      ]
    },
    {
      "cell_type": "markdown",
      "metadata": {
        "id": "H15E9cHwGQ5j"
      },
      "source": [
        "Предложенные в условии задания модели scikit-learn:\n",
        "- `случайный лес`,\n",
        "- `градиентный бустинг`,\n",
        "- `градиентный бустинг основанный на гистограммах`.\n",
        "\n",
        "Для задачи классификации на наборе данных \"German Credit Data\" лучше выбрать `модель градиентного бустинга на основе гистограмм`, так как она обеспечивает высокую скорость обучения и предсказания.\n",
        "\n",
        "Эта модель использует гистограммы для ускорения процесса обучения, что делает её значительно быстрее по сравнению с традиционным градиентным бустингом.\n",
        "\n",
        "В отличие от `случайного леса`, который также является эффективным ансамблевым методом, `модель градиентного бустинга на основе гистограмм` может обеспечить более высокую точность и эффективность. Но, стоит отметить, `случайный лес` может быть более простым в интерпретации и настройке по сравнению с градиентным бустингом."
      ]
    },
    {
      "cell_type": "markdown",
      "metadata": {
        "id": "HwdchUZjLAoR"
      },
      "source": [
        "## Выбор ансамблевой «внешней» модели"
      ]
    },
    {
      "cell_type": "markdown",
      "metadata": {
        "id": "ARxHSf7uK757"
      },
      "source": [
        "Предложенные в условии задания \"внешние\" модели:\n",
        "- градиентный бустинг `CatBoost`,\n",
        "- градиентный бустинг `XGBoost`,\n",
        "- градиентный бустинг `LightGBM`.\n",
        "\n",
        "Для выбора модели из указанных для классификации набора данных \"German Credit Data\", следует учесть следующее:\n",
        "\n",
        "- **Обработка категориальных признаков**: `CatBoost` имеет встроенную поддержку категориальных признаков. Это особенно полезно для набора данных \"German Credit Data\", в котором 17 категориальных признаков.\n",
        "\n",
        "- **Скорость обучения и предсказания**: `LightGBM` известен своей высокой скоростью обучения и предсказания. Это полезно, когда время обучения ограниченно.\n",
        "\n",
        "- **Производительность и гибкость**: `CatBoost` и `XGBoost` предлагают высокую производительность и гибкость в настройке гиперпараметров. Но `CatBoost` может предложить лучшие результаты по умолчанию, это полезно для быстрого получения хороших результатов без глубокой настройки.\n",
        "\n",
        "Исходя из вышесказанного, `CatBoost` наиболее предпочтителен для классификации набора данных \"German Credit Data\". Он предлагает встроенную поддержку категориальных признаков и может обеспечить хорошие результаты по умолчанию для быстрого получения хороших результатов без глубокой настройки."
      ]
    },
    {
      "cell_type": "markdown",
      "metadata": {
        "id": "AUsa6APuPBBG"
      },
      "source": [
        "# Обучение базовой (baseline) модели"
      ]
    },
    {
      "cell_type": "markdown",
      "metadata": {
        "id": "U0q1BoDjPFIH"
      },
      "source": [
        "Это самая «простая» модель - только числовые признаки, гиперпараметры модели по умолчанию."
      ]
    },
    {
      "cell_type": "code",
      "execution_count": null,
      "metadata": {
        "id": "Pbe0dsESPLqV"
      },
      "outputs": [],
      "source": [
        "# Используем только числовые признаки для обучения модели\n",
        "X_train_numeric = X_train[numeric_columns]\n",
        "X_test_numeric = X_test[numeric_columns]"
      ]
    },
    {
      "cell_type": "markdown",
      "metadata": {
        "id": "f-fAi5R0SqFB"
      },
      "source": [
        "## Градиентный бустинг основанный на гистограммах из scikit-learn"
      ]
    },
    {
      "cell_type": "code",
      "execution_count": null,
      "metadata": {
        "colab": {
          "base_uri": "https://localhost:8080/",
          "height": 75
        },
        "id": "IoBMFnNYPRRs",
        "outputId": "5548f327-63f6-4487-f30c-55d373c4e985"
      },
      "outputs": [
        {
          "data": {
            "text/html": [
              "<style>#sk-container-id-1 {color: black;background-color: white;}#sk-container-id-1 pre{padding: 0;}#sk-container-id-1 div.sk-toggleable {background-color: white;}#sk-container-id-1 label.sk-toggleable__label {cursor: pointer;display: block;width: 100%;margin-bottom: 0;padding: 0.3em;box-sizing: border-box;text-align: center;}#sk-container-id-1 label.sk-toggleable__label-arrow:before {content: \"▸\";float: left;margin-right: 0.25em;color: #696969;}#sk-container-id-1 label.sk-toggleable__label-arrow:hover:before {color: black;}#sk-container-id-1 div.sk-estimator:hover label.sk-toggleable__label-arrow:before {color: black;}#sk-container-id-1 div.sk-toggleable__content {max-height: 0;max-width: 0;overflow: hidden;text-align: left;background-color: #f0f8ff;}#sk-container-id-1 div.sk-toggleable__content pre {margin: 0.2em;color: black;border-radius: 0.25em;background-color: #f0f8ff;}#sk-container-id-1 input.sk-toggleable__control:checked~div.sk-toggleable__content {max-height: 200px;max-width: 100%;overflow: auto;}#sk-container-id-1 input.sk-toggleable__control:checked~label.sk-toggleable__label-arrow:before {content: \"▾\";}#sk-container-id-1 div.sk-estimator input.sk-toggleable__control:checked~label.sk-toggleable__label {background-color: #d4ebff;}#sk-container-id-1 div.sk-label input.sk-toggleable__control:checked~label.sk-toggleable__label {background-color: #d4ebff;}#sk-container-id-1 input.sk-hidden--visually {border: 0;clip: rect(1px 1px 1px 1px);clip: rect(1px, 1px, 1px, 1px);height: 1px;margin: -1px;overflow: hidden;padding: 0;position: absolute;width: 1px;}#sk-container-id-1 div.sk-estimator {font-family: monospace;background-color: #f0f8ff;border: 1px dotted black;border-radius: 0.25em;box-sizing: border-box;margin-bottom: 0.5em;}#sk-container-id-1 div.sk-estimator:hover {background-color: #d4ebff;}#sk-container-id-1 div.sk-parallel-item::after {content: \"\";width: 100%;border-bottom: 1px solid gray;flex-grow: 1;}#sk-container-id-1 div.sk-label:hover label.sk-toggleable__label {background-color: #d4ebff;}#sk-container-id-1 div.sk-serial::before {content: \"\";position: absolute;border-left: 1px solid gray;box-sizing: border-box;top: 0;bottom: 0;left: 50%;z-index: 0;}#sk-container-id-1 div.sk-serial {display: flex;flex-direction: column;align-items: center;background-color: white;padding-right: 0.2em;padding-left: 0.2em;position: relative;}#sk-container-id-1 div.sk-item {position: relative;z-index: 1;}#sk-container-id-1 div.sk-parallel {display: flex;align-items: stretch;justify-content: center;background-color: white;position: relative;}#sk-container-id-1 div.sk-item::before, #sk-container-id-1 div.sk-parallel-item::before {content: \"\";position: absolute;border-left: 1px solid gray;box-sizing: border-box;top: 0;bottom: 0;left: 50%;z-index: -1;}#sk-container-id-1 div.sk-parallel-item {display: flex;flex-direction: column;z-index: 1;position: relative;background-color: white;}#sk-container-id-1 div.sk-parallel-item:first-child::after {align-self: flex-end;width: 50%;}#sk-container-id-1 div.sk-parallel-item:last-child::after {align-self: flex-start;width: 50%;}#sk-container-id-1 div.sk-parallel-item:only-child::after {width: 0;}#sk-container-id-1 div.sk-dashed-wrapped {border: 1px dashed gray;margin: 0 0.4em 0.5em 0.4em;box-sizing: border-box;padding-bottom: 0.4em;background-color: white;}#sk-container-id-1 div.sk-label label {font-family: monospace;font-weight: bold;display: inline-block;line-height: 1.2em;}#sk-container-id-1 div.sk-label-container {text-align: center;}#sk-container-id-1 div.sk-container {/* jupyter's `normalize.less` sets `[hidden] { display: none; }` but bootstrap.min.css set `[hidden] { display: none !important; }` so we also need the `!important` here to be able to override the default hidden behavior on the sphinx rendered scikit-learn.org. See: https://github.com/scikit-learn/scikit-learn/issues/21755 */display: inline-block !important;position: relative;}#sk-container-id-1 div.sk-text-repr-fallback {display: none;}</style><div id=\"sk-container-id-1\" class=\"sk-top-container\"><div class=\"sk-text-repr-fallback\"><pre>HistGradientBoostingClassifier(random_state=42)</pre><b>In a Jupyter environment, please rerun this cell to show the HTML representation or trust the notebook. <br />On GitHub, the HTML representation is unable to render, please try loading this page with nbviewer.org.</b></div><div class=\"sk-container\" hidden><div class=\"sk-item\"><div class=\"sk-estimator sk-toggleable\"><input class=\"sk-toggleable__control sk-hidden--visually\" id=\"sk-estimator-id-1\" type=\"checkbox\" checked><label for=\"sk-estimator-id-1\" class=\"sk-toggleable__label sk-toggleable__label-arrow\">HistGradientBoostingClassifier</label><div class=\"sk-toggleable__content\"><pre>HistGradientBoostingClassifier(random_state=42)</pre></div></div></div></div></div>"
            ],
            "text/plain": [
              "HistGradientBoostingClassifier(random_state=42)"
            ]
          },
          "execution_count": 28,
          "metadata": {},
          "output_type": "execute_result"
        }
      ],
      "source": [
        "# Создание и обучение модели\n",
        "model_hist = HistGradientBoostingClassifier(random_state=42)\n",
        "model_hist.fit(X_train_numeric, y_train)"
      ]
    },
    {
      "cell_type": "code",
      "execution_count": null,
      "metadata": {
        "id": "6e1Dk3Z_PWgN"
      },
      "outputs": [],
      "source": [
        "# Предсказание на тренировочной и валидационной выборках\n",
        "y_train_pred_hist = model_hist.predict(X_train_numeric)\n",
        "y_test_pred_hist = model_hist.predict(X_test_numeric)"
      ]
    },
    {
      "cell_type": "markdown",
      "metadata": {
        "id": "cgdumT_Lntf0"
      },
      "source": [
        "### Анализ метрик на тренировочных и валидационных данных"
      ]
    },
    {
      "cell_type": "code",
      "execution_count": null,
      "metadata": {
        "colab": {
          "base_uri": "https://localhost:8080/"
        },
        "id": "D8vGs-z1PcZF",
        "outputId": "29830849-cd6f-4f99-fc85-60eccfbdb313"
      },
      "outputs": [
        {
          "name": "stdout",
          "output_type": "stream",
          "text": [
            "Точность на тренировочной выборке: 0.933\n",
            "Точность на валидационной выборке: 0.668\n",
            "\n",
            "Полнота на тренировочной выборке: 0.979\n",
            "Полнота на валидационной выборке: 0.794\n",
            "\n",
            "F-мера на тренировочной выборке: 0.954\n",
            "F-мера на валидационной выборке: 0.770\n",
            "\n",
            "ROC AUC на тренировочной выборке: 0.903\n",
            "ROC AUC на валидационной выборке: 0.584\n"
          ]
        }
      ],
      "source": [
        "train_accuracy = accuracy_score(y_train, y_train_pred_hist)\n",
        "test_accuracy = accuracy_score(y_test, y_test_pred_hist)\n",
        "print(f'Точность на тренировочной выборке: {train_accuracy:.3f}')\n",
        "print(f'Точность на валидационной выборке: {test_accuracy:.3f}')\n",
        "print()\n",
        "train_recall = recall_score(y_train, y_train_pred_hist)\n",
        "test_recall = recall_score(y_test, y_test_pred_hist)\n",
        "print(f'Полнота на тренировочной выборке: {train_recall:.3f}')\n",
        "print(f'Полнота на валидационной выборке: {test_recall:.3f}')\n",
        "print()\n",
        "train_f1 = f1_score(y_train, y_train_pred_hist)\n",
        "test_f1 = f1_score(y_test, y_test_pred_hist)\n",
        "print(f'F-мера на тренировочной выборке: {train_f1:.3f}')\n",
        "print(f'F-мера на валидационной выборке: {test_f1:.3f}')\n",
        "print()\n",
        "train_roc_auc = roc_auc_score(y_train, y_train_pred_hist)\n",
        "test_roc_auc = roc_auc_score(y_test, y_test_pred_hist)\n",
        "print(f'ROC AUC на тренировочной выборке: {train_roc_auc:.3f}')\n",
        "print(f'ROC AUC на валидационной выборке: {test_roc_auc:.3f}')"
      ]
    },
    {
      "cell_type": "markdown",
      "metadata": {
        "id": "xzsC_Ukyou5v"
      },
      "source": [
        "#### Текущие выводы"
      ]
    },
    {
      "cell_type": "markdown",
      "metadata": {
        "id": "1cI35QqDPtx4"
      },
      "source": [
        "Эти результаты указывают на то, что модель хорошо работает на тренировочных данных, но ее производительность на новых данных снижается. Это может быть связано с переобучением модели.\n",
        "\n",
        "Если сравнивать с моделью из [домашнего задания №1](https://colab.research.google.com/drive/1vOCDQNlQitBE9cQQF1_xemsU8OiOavgz?usp=sharing), где был применен `метод опорных векторов`:\n",
        "- точность на валидационных данных несколько меньше: 0.668 против 0.716,\n",
        "- полнота также меньше: 0.79 против 0.98,\n",
        "- F-мера тоже меньше: 0.77 против 0.83,\n",
        "- ROC AUC немного вырос: 0.58 против 0.54.\n"
      ]
    },
    {
      "cell_type": "markdown",
      "metadata": {
        "id": "UDhUQKG6n4Ip"
      },
      "source": [
        "### Отчет классификации на валидационной выборке"
      ]
    },
    {
      "cell_type": "code",
      "execution_count": null,
      "metadata": {
        "colab": {
          "base_uri": "https://localhost:8080/"
        },
        "id": "Xa8eB53uP1HJ",
        "outputId": "d28bda83-9fa0-456d-9abc-c2e73093d5c3"
      },
      "outputs": [
        {
          "name": "stdout",
          "output_type": "stream",
          "text": [
            "Отчет классификации на валидационной выборке:\n",
            "              precision    recall  f1-score   support\n",
            "\n",
            "           0       0.44      0.37      0.40        75\n",
            "           1       0.75      0.79      0.77       175\n",
            "\n",
            "    accuracy                           0.67       250\n",
            "   macro avg       0.59      0.58      0.59       250\n",
            "weighted avg       0.65      0.67      0.66       250\n",
            "\n"
          ]
        }
      ],
      "source": [
        "print(\"Отчет классификации на валидационной выборке:\")\n",
        "print(classification_report(y_test, y_test_pred_hist))"
      ]
    },
    {
      "cell_type": "markdown",
      "metadata": {
        "id": "W-eiCPLZuUES"
      },
      "source": [
        "#### Текущие выводы"
      ]
    },
    {
      "cell_type": "markdown",
      "metadata": {
        "id": "F8xLnW5EuWz6"
      },
      "source": [
        "Эти результаты указывают на то, что модель имеет более высокую производительность для класса 1, но значительно хуже для класса 0. Это может быть связано с несбалансированностью классов в данных (что, как мы знаем из [первого домашнего задания](https://colab.research.google.com/drive/1vOCDQNlQitBE9cQQF1_xemsU8OiOavgz?usp=sharing), имеет место быть) или с тем, что модель не справляется с определением истинных наблюдений класса 0."
      ]
    },
    {
      "cell_type": "markdown",
      "metadata": {
        "id": "YECljuG3u7pb"
      },
      "source": [
        "### Анализ матрицы ошибок"
      ]
    },
    {
      "cell_type": "code",
      "execution_count": null,
      "metadata": {
        "colab": {
          "base_uri": "https://localhost:8080/",
          "height": 160
        },
        "id": "TATcsUaNu9vC",
        "outputId": "816bdfb8-502f-4247-8521-a6ab205c8d51"
      },
      "outputs": [
        {
          "name": "stdout",
          "output_type": "stream",
          "text": [
            "Матрица ошибок:\n"
          ]
        },
        {
          "data": {
            "text/plain": [
              "array([[ 28,  47],\n",
              "       [ 36, 139]])"
            ]
          },
          "metadata": {},
          "output_type": "display_data"
        },
        {
          "name": "stdout",
          "output_type": "stream",
          "text": [
            "\n",
            "истинно отрицательные (True Negatives, TN)\t 28\n",
            "ложно положительные (False Positives, FP)\t 47\n",
            "ложно отрицательные (False Negatives, FN)\t 36\n",
            "истинно положительные (True Positives, TP)\t 139\n"
          ]
        }
      ],
      "source": [
        "cm = confusion_matrix(y_test, y_test_pred_hist)\n",
        "\n",
        "print(\"Матрица ошибок:\")\n",
        "display(cm)\n",
        "print()\n",
        "\n",
        "tn, fp, fn, tp = confusion_matrix(y_test, y_test_pred_hist).ravel()\n",
        "print('истинно отрицательные (True Negatives, TN)\\t', tn)\n",
        "print('ложно положительные (False Positives, FP)\\t', fp)\n",
        "print('ложно отрицательные (False Negatives, FN)\\t', fn)\n",
        "print('истинно положительные (True Positives, TP)\\t', tp)"
      ]
    },
    {
      "cell_type": "markdown",
      "metadata": {
        "id": "nu3jaOurxFMl"
      },
      "source": [
        "Для сравнения матрица ошибок из [первого домашнего задания](https://colab.research.google.com/drive/1vOCDQNlQitBE9cQQF1_xemsU8OiOavgz?usp=sharing):  \n",
        "истинно отрицательные (True Negatives, TN)\t 7  \n",
        "ложно положительные (False Positives, FP)\t 68  \n",
        "ложно отрицательные (False Negatives, FN)\t 3  \n",
        "истинно положительные (True Positives, TP)\t 172"
      ]
    },
    {
      "cell_type": "markdown",
      "metadata": {
        "id": "7w1vkYDBxivB"
      },
      "source": [
        "#### Текущие выводы"
      ]
    },
    {
      "cell_type": "markdown",
      "metadata": {
        "id": "sEqlWP7sxkuf"
      },
      "source": [
        "Можно отметить, что `градиентный бустинг` также имеет более хорошую способность предсказывать положительные случаи, но имеет проблемы с отрицательными, часто ошибаясь при их предсказании, как и `метод опорных векторов`.\n",
        "\n",
        "Но `градиентный бустинг` лучше справляется с предсказаниями отрицательных случаев (TN 28 против 7), но хуже с предсказаниями положительных случаев (TP 139 против 172)."
      ]
    },
    {
      "cell_type": "markdown",
      "metadata": {
        "id": "NM85O_aPn-bT"
      },
      "source": [
        "### Анализ значимости признаков"
      ]
    },
    {
      "cell_type": "markdown",
      "metadata": {
        "id": "5NesvfVER76w"
      },
      "source": [
        "Поскольку у модели `HistGradientBoostingClassifier` из библиотеки scikit-learn нет атрибута `feature_importances_`, то для оценки важности признаков воспользуемся альтернативным подходом - перестановочным (permutation) методом. Этот метод случайно переставляет значения одного признака и измеряет, как это влияет на производительность модели. Если производительность значительно ухудшается, признак считается важным."
      ]
    },
    {
      "cell_type": "code",
      "execution_count": null,
      "metadata": {
        "colab": {
          "base_uri": "https://localhost:8080/"
        },
        "id": "sjEi3u9EP6ln",
        "outputId": "5801fd3f-138c-4e86-8bdd-5a29246dcf73"
      },
      "outputs": [
        {
          "name": "stdout",
          "output_type": "stream",
          "text": [
            "Duration of Credit (month): 0.044 +/- 0.018\n",
            "Credit Amount: 0.036 +/- 0.013\n"
          ]
        }
      ],
      "source": [
        "# Вычисление важности признаков с помощью перестановочного метода\n",
        "result = permutation_importance(model_hist, X_test_numeric, y_test, n_repeats=10, random_state=42)\n",
        "\n",
        "# Вывод важности признаков\n",
        "for i in result.importances_mean.argsort()[::-1]:\n",
        "    if result.importances_mean[i] - 2 * result.importances_std[i] > 0:\n",
        "        print(f\"{numeric_columns[i]}: \"\n",
        "              f\"{result.importances_mean[i]:.3f}\"\n",
        "              f\" +/- {result.importances_std[i]:.3f}\")"
      ]
    },
    {
      "cell_type": "markdown",
      "metadata": {
        "id": "8ICW_CxNoqd8"
      },
      "source": [
        "#### Текущие выводы"
      ]
    },
    {
      "cell_type": "markdown",
      "metadata": {
        "id": "Q8d1BypaU3Ry"
      },
      "source": [
        "Получаем, что при случайной перестановке значений признака \"Duration of Credit (month)\" модель потеряла бы примерно 4.4% своей производительности, а при перестановке значений признака \"Credit Amount\" - примерно 3.6%. Значения \"+/- 1.8\" и \"+/- 1.3\" указывают на стандартное отклонение оценок важности признаков, что позволяет оценить неопределенность в этих оценках.\n",
        "\n",
        "\"Duration of Credit (month)\" имеет более высокую важность, чем \"Credit Amount\", что может указывать на то, что продолжительность кредита имеет более значительное влияние на кредитоспособность по сравнению с суммой кредита. Возраст \"Age (years)\" получается вообще не влияет на кредитоспособность.\n",
        "\n",
        "Однако, важно помнить, что важность признаков, полученная с помощью перестановочного метода, зависит от производительности модели и может быть искажена, если модель переобучена или если признаки сильно коррелируют между собой. В таких случаях, важность признаков может быть переоценена или недооценена. Кроме того, перестановочная важность признаков не отражает встроенную важность признака в модели, а лишь показывает, насколько сильно модель зависит от этого признака для предсказания.\n",
        "\n",
        "На основе этих значений важности признаков можно понять, какие признаки наиболее важны для модели и как они влияют на ее производительность. Это может помочь в дальнейшем улучшении модели путем выбора подходящих признаков для обучения или в понимании, какие признаки могут быть наиболее полезны для улучшения качества предсказаний."
      ]
    },
    {
      "cell_type": "markdown",
      "metadata": {
        "id": "jyBPHqNVzdwM"
      },
      "source": [
        "## CatBoost"
      ]
    },
    {
      "cell_type": "code",
      "execution_count": null,
      "metadata": {
        "colab": {
          "base_uri": "https://localhost:8080/"
        },
        "id": "gql_ioasPrAm",
        "outputId": "66ffd8df-bbc4-4d21-f7e5-c886051ee1d4"
      },
      "outputs": [
        {
          "data": {
            "text/plain": [
              "<catboost.core.CatBoostClassifier at 0x791182a6d510>"
            ]
          },
          "execution_count": 34,
          "metadata": {},
          "output_type": "execute_result"
        }
      ],
      "source": [
        "# Создание и обучение модели\n",
        "model_cb = CatBoostClassifier(verbose=False, random_state=42)\n",
        "model_cb.fit(X_train_numeric, y_train, verbose=False)"
      ]
    },
    {
      "cell_type": "code",
      "execution_count": null,
      "metadata": {
        "id": "sUt8HRyfQtUM"
      },
      "outputs": [],
      "source": [
        "# Предсказание на тренировочной и валидационной выборках\n",
        "y_train_pred_cb = model_cb.predict(X_train_numeric)\n",
        "y_test_pred_cb = model_cb.predict(X_test_numeric)"
      ]
    },
    {
      "cell_type": "markdown",
      "metadata": {
        "id": "ofvIezEkQ1t7"
      },
      "source": [
        "### Анализ метрик на тренировочных и валидационных данных"
      ]
    },
    {
      "cell_type": "code",
      "execution_count": null,
      "metadata": {
        "colab": {
          "base_uri": "https://localhost:8080/"
        },
        "id": "pycT0hQqQ4bj",
        "outputId": "b6f18433-4975-459b-cd94-7a7c010fbe16"
      },
      "outputs": [
        {
          "name": "stdout",
          "output_type": "stream",
          "text": [
            "Точность на тренировочной выборке: 0.831\n",
            "Точность на валидационной выборке: 0.724\n",
            "\n",
            "Полнота на тренировочной выборке: 0.989\n",
            "Полнота на валидационной выборке: 0.937\n",
            "\n",
            "F-мера на тренировочной выборке: 0.891\n",
            "F-мера на валидационной выборке: 0.826\n",
            "\n",
            "ROC AUC на тренировочной выборке: 0.725\n",
            "ROC AUC на валидационной выборке: 0.582\n"
          ]
        }
      ],
      "source": [
        "train_accuracy = accuracy_score(y_train, y_train_pred_cb)\n",
        "test_accuracy = accuracy_score(y_test, y_test_pred_cb)\n",
        "print(f'Точность на тренировочной выборке: {train_accuracy:.3f}')\n",
        "print(f'Точность на валидационной выборке: {test_accuracy:.3f}')\n",
        "print()\n",
        "train_recall = recall_score(y_train, y_train_pred_cb)\n",
        "test_recall = recall_score(y_test, y_test_pred_cb)\n",
        "print(f'Полнота на тренировочной выборке: {train_recall:.3f}')\n",
        "print(f'Полнота на валидационной выборке: {test_recall:.3f}')\n",
        "print()\n",
        "train_f1 = f1_score(y_train, y_train_pred_cb)\n",
        "test_f1 = f1_score(y_test, y_test_pred_cb)\n",
        "print(f'F-мера на тренировочной выборке: {train_f1:.3f}')\n",
        "print(f'F-мера на валидационной выборке: {test_f1:.3f}')\n",
        "print()\n",
        "train_roc_auc = roc_auc_score(y_train, y_train_pred_cb)\n",
        "test_roc_auc = roc_auc_score(y_test, y_test_pred_cb)\n",
        "print(f'ROC AUC на тренировочной выборке: {train_roc_auc:.3f}')\n",
        "print(f'ROC AUC на валидационной выборке: {test_roc_auc:.3f}')"
      ]
    },
    {
      "cell_type": "markdown",
      "metadata": {
        "id": "fT0NO1IHRQm1"
      },
      "source": [
        "Для сравнения метрики градиентного бустинга:\n",
        "\n",
        "Точность на тренировочной выборке: 0.933  \n",
        "Точность на валидационной выборке: 0.668\n",
        "\n",
        "Полнота на тренировочной выборке: 0.979  \n",
        "Полнота на валидационной выборке: 0.794\n",
        "\n",
        "F-мера на тренировочной выборке: 0.954  \n",
        "F-мера на валидационной выборке: 0.770\n",
        "\n",
        "ROC AUC на тренировочной выборке: 0.903  \n",
        "ROC AUC на валидационной выборке: 0.584"
      ]
    },
    {
      "cell_type": "markdown",
      "metadata": {
        "id": "iaGgH6cURC6u"
      },
      "source": [
        "#### Текущие выводы"
      ]
    },
    {
      "cell_type": "markdown",
      "metadata": {
        "id": "jJYUpdIwRLAv"
      },
      "source": [
        "Эти результаты указывают на то, что модель `CatBoost` аналогично `градиентному бустингу от sklearn` хорошо работает на тренировочных данных, но ее производительность на новых данных снижается. Это, опять же, может быть связано с переобучением модели.\n",
        "\n",
        "Если сравнивать с `градиентным бустингом от sklearn`:\n",
        "- точность на валидационных данных несколько выше: 0.668 против 0.724, что незначительно выше результата `метода опорных векторов` из первого домашнего задания 0.716,\n",
        "- полнота также выше: 0.79 против 0.94, но меньше `метода опорных векторов` 0.98,\n",
        "- F-мера тоже выше: 0.77 против 0.83, что соответствует `методу опорных векторов`,\n",
        "- ROC AUC аналогный: 0.58.\n"
      ]
    },
    {
      "cell_type": "markdown",
      "metadata": {
        "id": "tQftNZWKS9bE"
      },
      "source": [
        "### Отчет классификации на валидационной выборке"
      ]
    },
    {
      "cell_type": "code",
      "execution_count": null,
      "metadata": {
        "colab": {
          "base_uri": "https://localhost:8080/"
        },
        "id": "B9dpVgtITCFG",
        "outputId": "17f6403a-f672-42d0-cce8-9393eea1c52a"
      },
      "outputs": [
        {
          "name": "stdout",
          "output_type": "stream",
          "text": [
            "Отчет классификации на валидационной выборке:\n",
            "              precision    recall  f1-score   support\n",
            "\n",
            "           0       0.61      0.23      0.33        75\n",
            "           1       0.74      0.94      0.83       175\n",
            "\n",
            "    accuracy                           0.72       250\n",
            "   macro avg       0.67      0.58      0.58       250\n",
            "weighted avg       0.70      0.72      0.68       250\n",
            "\n"
          ]
        }
      ],
      "source": [
        "print(\"Отчет классификации на валидационной выборке:\")\n",
        "print(classification_report(y_test, y_test_pred_cb))"
      ]
    },
    {
      "cell_type": "markdown",
      "metadata": {
        "id": "1_lJt1ZBTJ66"
      },
      "source": [
        "Для сравнения отчет классификации на валидационной выборке градиентного бустинга:  \n",
        "```\n",
        "                precision    recall  f1-score   support\n",
        "\n",
        "           0       0.44      0.37      0.40        75\n",
        "           1       0.75      0.79      0.77       175\n",
        "\n",
        "    accuracy                           0.67       250\n",
        "   macro avg       0.59      0.58      0.59       250\n",
        "weighted avg       0.65      0.67      0.66       250\n",
        "```"
      ]
    },
    {
      "cell_type": "markdown",
      "metadata": {
        "id": "gWwgCUbNTpln"
      },
      "source": [
        "#### Текущие выводы"
      ]
    },
    {
      "cell_type": "markdown",
      "metadata": {
        "id": "ol2Wcje4TuFm"
      },
      "source": [
        "Сравнивая отчеты классификации для моделей `CatBoost` и `HistGradientBoostingClassifier` на валидационной выборке, можно сделать следующие выводы:\n",
        "\n",
        "- **Точность (Accuracy)**: Модель `CatBoost` показывает общую точность 0.72, в то время как `HistGradientBoostingClassifier` показывает 0.67. Это указывает на то, что `CatBoost` лучше справляется с обнаружением правильных классов на валидационной выборке.\n",
        "\n",
        "- **Полнота (Recall)**: Для класса 0 полнота `CatBoost` составляет 0.23, в то время как для `HistGradientBoostingClassifier` — 0.37. Для класса 1 полнота `CatBoost` составляет 0.94, в то время как для `HistGradientBoostingClassifier` — 0.79. Это указывает на то, что `CatBoost` лучше справляется с обнаружением положительных случаев класса 1, но хуже с обнаружением положительных случаев класса 0.\n",
        "\n",
        "- **F-мера (F1 Score)**: F-мера для класса 0 у `CatBoost` составляет 0.33, в то время как для `HistGradientBoostingClassifier` — 0.40. Для класса 1 F-мера у `CatBoost` составляет 0.83, в то время как для `HistGradientBoostingClassifier` — 0.77. Это указывает на то, что `CatBoost` лучше справляется с балансированием между точностью и полнотой для класса 1, но хуже для класса 0.\n",
        "\n",
        "- **Средние значения (Macro Average, Weighted Average)**: Macro Average у `CatBoost` составляет 0.67, в то время как для `HistGradientBoostingClassifier` — 0.59. Weighted Average у `CatBoost` составляет 0.70, в то время как для `HistGradientBoostingClassifier` — 0.65. Это указывает на то, что `CatBoost` лучше справляется с обнаружением положительных случаев класса 1, но хуже с обнаружением положительных случаев класса 0, учитывая вес классов.\n",
        "\n",
        "В целом, эти результаты указывают на то, что модель `CatBoost` лучше справляется с задачей классификации на валидационной выборке, особенно для класса 1. Однако, для класса 0 производительность `CatBoost хуже`, чем у `HistGradientBoostingClassifier`. Это может быть связано с различиями в алгоритмах обучения и предсказания этих моделей."
      ]
    },
    {
      "cell_type": "markdown",
      "metadata": {
        "id": "7knC4BjvVyb1"
      },
      "source": [
        "### Анализ матрицы ошибок"
      ]
    },
    {
      "cell_type": "code",
      "execution_count": null,
      "metadata": {
        "colab": {
          "base_uri": "https://localhost:8080/",
          "height": 160
        },
        "id": "gOLyC-OLV5Ep",
        "outputId": "e64f5069-d9a2-4339-ee80-c3fdc9e607e8"
      },
      "outputs": [
        {
          "name": "stdout",
          "output_type": "stream",
          "text": [
            "Матрица ошибок:\n"
          ]
        },
        {
          "data": {
            "text/plain": [
              "array([[ 17,  58],\n",
              "       [ 11, 164]])"
            ]
          },
          "metadata": {},
          "output_type": "display_data"
        },
        {
          "name": "stdout",
          "output_type": "stream",
          "text": [
            "\n",
            "истинно отрицательные (True Negatives, TN)\t 17\n",
            "ложно положительные (False Positives, FP)\t 58\n",
            "ложно отрицательные (False Negatives, FN)\t 11\n",
            "истинно положительные (True Positives, TP)\t 164\n"
          ]
        }
      ],
      "source": [
        "cm = confusion_matrix(y_test, y_test_pred_cb)\n",
        "\n",
        "print(\"Матрица ошибок:\")\n",
        "display(cm)\n",
        "print()\n",
        "\n",
        "tn, fp, fn, tp = confusion_matrix(y_test, y_test_pred_cb).ravel()\n",
        "print('истинно отрицательные (True Negatives, TN)\\t', tn)\n",
        "print('ложно положительные (False Positives, FP)\\t', fp)\n",
        "print('ложно отрицательные (False Negatives, FN)\\t', fn)\n",
        "print('истинно положительные (True Positives, TP)\\t', tp)"
      ]
    },
    {
      "cell_type": "markdown",
      "metadata": {
        "id": "PFJRduiOV9-U"
      },
      "source": [
        "Для сравнение матрица ошибок модели sklearn:\n",
        "```\n",
        "array([[ 28,  47],\n",
        "       [ 36, 139]])\n",
        "\n",
        "истинно отрицательные (True Negatives, TN)\t 28\n",
        "ложно положительные (False Positives, FP)\t 47\n",
        "ложно отрицательные (False Negatives, FN)\t 36\n",
        "истинно положительные (True Positives, TP)\t 139\n",
        "```"
      ]
    },
    {
      "cell_type": "markdown",
      "metadata": {
        "id": "biNW34tjWMnx"
      },
      "source": [
        "#### Текущие выводы"
      ]
    },
    {
      "cell_type": "markdown",
      "metadata": {
        "id": "xhTn7y3PWV0Q"
      },
      "source": [
        "Можно отметить, что `CatBoost` также имеет более хорошую способность предсказывать положительные случаи, но имеет проблемы с отрицательными, часто ошибаясь при их предсказании, как и `метод опорных векторов`, и модель от sklearn.\n",
        "\n",
        "Но `CatBoost` хуже справляется с предсказаниями отрицательных случаев (TN 17 против 28), но лучше с предсказаниями положительных случаев (TP 164 против 139), чем `градиентный бустинг`."
      ]
    },
    {
      "cell_type": "markdown",
      "metadata": {
        "id": "IklgR-jSXGok"
      },
      "source": [
        "### Анализ значимости признаков"
      ]
    },
    {
      "cell_type": "markdown",
      "metadata": {
        "id": "OXdc-DsCZvgP"
      },
      "source": [
        "`PredictionValuesChange` показывает, насколько изменились предсказания модели при изменении значения признака."
      ]
    },
    {
      "cell_type": "code",
      "execution_count": null,
      "metadata": {
        "colab": {
          "base_uri": "https://localhost:8080/",
          "height": 179
        },
        "id": "O1xMPfKDZpkd",
        "outputId": "9fa78bff-1101-4ce9-cf1a-4823aa6e506d"
      },
      "outputs": [
        {
          "data": {
            "image/png": "[encoded data removed]",
            "text/plain": [
              "<Figure size 400x100 with 1 Axes>"
            ]
          },
          "metadata": {},
          "output_type": "display_data"
        }
      ],
      "source": [
        "# Получение важности признаков\n",
        "importances = model_cb.get_feature_importance(type='PredictionValuesChange')\n",
        "\n",
        "# Создание pandas Series для удобства визуализации\n",
        "feature_importances = pd.Series(importances, index=X_train_numeric.columns).sort_values(ascending=False)\n",
        "\n",
        "# Визуализация важности признаков\n",
        "plt.figure(figsize=(4, 1))\n",
        "plt.barh(feature_importances.index, feature_importances.values)\n",
        "plt.title('CatBoost Feature Importance')\n",
        "plt.xlabel('Importance')\n",
        "plt.ylabel('Features')\n",
        "plt.show()"
      ]
    },
    {
      "cell_type": "markdown",
      "metadata": {
        "id": "xI984BVbaLNg"
      },
      "source": [
        "#### Текущие выводы"
      ]
    },
    {
      "cell_type": "markdown",
      "metadata": {
        "id": "w09_sM9saP3i"
      },
      "source": [
        "В случае `CatBoost` \"Duration of Credit (month)\" имеет менее высокую важность, чем \"Credit Amount\", в отличии от модели sklearn.\n",
        "\n",
        "В `CatBoost` возраст \"Age (years)\" играет значительную роль для принятия решения."
      ]
    },
    {
      "cell_type": "markdown",
      "metadata": {
        "id": "u8u7Vj-ybseS"
      },
      "source": [
        "# Попытка улучшить качество модели"
      ]
    },
    {
      "cell_type": "markdown",
      "metadata": {
        "id": "cpAi5yxOb1Nu"
      },
      "source": [
        "## Градиентный бустинг основанный на гистограммах из scikit-learn"
      ]
    },
    {
      "cell_type": "markdown",
      "metadata": {
        "id": "lK2U5FwMb8hO"
      },
      "source": [
        "### Добавление в модель категориальных признаков"
      ]
    },
    {
      "cell_type": "code",
      "execution_count": null,
      "metadata": {
        "id": "HCqK2-Bj2_zy"
      },
      "outputs": [],
      "source": [
        "# Определение индексов категориальных признаков\n",
        "categorical_features_indices = [X_train.columns.get_loc(c) for c in category_columns]"
      ]
    },
    {
      "cell_type": "code",
      "execution_count": null,
      "metadata": {
        "id": "riWDY8zTc9QT"
      },
      "outputs": [],
      "source": [
        "# Создание и обучение модели с категориальными признаками\n",
        "model_hist_with_cat = HistGradientBoostingClassifier(categorical_features=categorical_features_indices, random_state=42)\n",
        "model_hist_with_cat.fit(X_train, y_train)\n",
        "\n",
        "# Предсказание на тренировочной и валидационной выборках\n",
        "y_train_pred_hist_with_cat = model_hist_with_cat.predict(X_train)\n",
        "y_test_pred_hist_with_cat = model_hist_with_cat.predict(X_test)"
      ]
    },
    {
      "cell_type": "markdown",
      "metadata": {
        "id": "vS4pUBoJfk44"
      },
      "source": [
        "#### Анализ полученного решения"
      ]
    },
    {
      "cell_type": "code",
      "execution_count": null,
      "metadata": {
        "colab": {
          "base_uri": "https://localhost:8080/",
          "height": 538
        },
        "id": "8Jjvn9k5fv5n",
        "outputId": "67124bd7-3bfb-4d1c-c8af-85369a1192d2"
      },
      "outputs": [
        {
          "name": "stdout",
          "output_type": "stream",
          "text": [
            "Точность на тренировочной выборке: 1.000\n",
            "Точность на валидационной выборке: 0.772\n",
            "\n",
            "Полнота на тренировочной выборке: 1.000\n",
            "Полнота на валидационной выборке: 0.869\n",
            "\n",
            "F-мера на тренировочной выборке: 1.000\n",
            "F-мера на валидационной выборке: 0.842\n",
            "\n",
            "ROC AUC на тренировочной выборке: 1.000\n",
            "ROC AUC на валидационной выборке: 0.708\n",
            "\n",
            "----------------------------------------\n",
            "Матрица ошибок:\n"
          ]
        },
        {
          "data": {
            "text/plain": [
              "array([[ 41,  34],\n",
              "       [ 23, 152]])"
            ]
          },
          "metadata": {},
          "output_type": "display_data"
        },
        {
          "name": "stdout",
          "output_type": "stream",
          "text": [
            "\n",
            "истинно отрицательные (True Negatives, TN)\t 41\n",
            "ложно положительные (False Positives, FP)\t 34\n",
            "ложно отрицательные (False Negatives, FN)\t 23\n",
            "истинно положительные (True Positives, TP)\t 152\n",
            "\n",
            "----------------------------------------\n",
            "Важность признаков:\n",
            "Account Balance: 0.068 +/- 0.017\n",
            "Duration of Credit (month): 0.042 +/- 0.013\n",
            "Credit Amount: 0.038 +/- 0.014\n",
            "No of Credits at this Bank: 0.012 +/- 0.003\n"
          ]
        }
      ],
      "source": [
        "train_accuracy = accuracy_score(y_train, y_train_pred_hist_with_cat)\n",
        "test_accuracy = accuracy_score(y_test, y_test_pred_hist_with_cat)\n",
        "print(f'Точность на тренировочной выборке: {train_accuracy:.3f}')\n",
        "print(f'Точность на валидационной выборке: {test_accuracy:.3f}')\n",
        "print()\n",
        "train_recall = recall_score(y_train, y_train_pred_hist_with_cat)\n",
        "test_recall = recall_score(y_test, y_test_pred_hist_with_cat)\n",
        "print(f'Полнота на тренировочной выборке: {train_recall:.3f}')\n",
        "print(f'Полнота на валидационной выборке: {test_recall:.3f}')\n",
        "print()\n",
        "train_f1 = f1_score(y_train, y_train_pred_hist_with_cat)\n",
        "test_f1 = f1_score(y_test, y_test_pred_hist_with_cat)\n",
        "print(f'F-мера на тренировочной выборке: {train_f1:.3f}')\n",
        "print(f'F-мера на валидационной выборке: {test_f1:.3f}')\n",
        "print()\n",
        "train_roc_auc = roc_auc_score(y_train, y_train_pred_hist_with_cat)\n",
        "test_roc_auc = roc_auc_score(y_test, y_test_pred_hist_with_cat)\n",
        "print(f'ROC AUC на тренировочной выборке: {train_roc_auc:.3f}')\n",
        "print(f'ROC AUC на валидационной выборке: {test_roc_auc:.3f}')\n",
        "print()\n",
        "\n",
        "cm = confusion_matrix(y_test, y_test_pred_hist_with_cat)\n",
        "print('-' * 40)\n",
        "print(\"Матрица ошибок:\")\n",
        "display(cm)\n",
        "print()\n",
        "\n",
        "tn, fp, fn, tp = confusion_matrix(y_test, y_test_pred_hist_with_cat).ravel()\n",
        "print('истинно отрицательные (True Negatives, TN)\\t', tn)\n",
        "print('ложно положительные (False Positives, FP)\\t', fp)\n",
        "print('ложно отрицательные (False Negatives, FN)\\t', fn)\n",
        "print('истинно положительные (True Positives, TP)\\t', tp)\n",
        "print()\n",
        "\n",
        "# Вычисление важности признаков с помощью перестановочного метода\n",
        "result = permutation_importance(model_hist_with_cat, X_test, y_test, n_repeats=10, random_state=42)\n",
        "print('-' * 40)\n",
        "# Вывод важности признаков\n",
        "print('Важность признаков:')\n",
        "for i in result.importances_mean.argsort()[::-1]:\n",
        "    if result.importances_mean[i] - 2 * result.importances_std[i] > 0:\n",
        "        print(f\"{list(X_test.columns)[i]}: \"\n",
        "              f\"{result.importances_mean[i]:.3f}\"\n",
        "              f\" +/- {result.importances_std[i]:.3f}\")"
      ]
    },
    {
      "cell_type": "markdown",
      "metadata": {
        "id": "HVHiX3oi83Jn"
      },
      "source": [
        "Отметим, что после добавления категориальных признаков на тренировочных данных модель отрабатывает по максимуму, что говорит скорее всего о переобучении.\n",
        "\n",
        "На валидационных данных:\n",
        "- точность возросла с 0.67 до 0.77,\n",
        "- полнота возросла с 0.79 до 0.87,\n",
        "- F-мера возрасла с 0.77 до 0.84,\n",
        "- ROC AUC существнно вырос с 0.58 до 0.71.\n",
        "\n",
        "Матрица ошибок также показывает улучшение модели как в опрделении положительных случаев, так и отрицательных.\n",
        "\n",
        "К значимым признакам добавились `Account Balance`, который теперь является самым важным, и `No of Credits at this Bank`, который обладает какой-то минимальной важностью.\n",
        "\n",
        "Таким образом, добавление категориальных признаков существенно улучшило модель."
      ]
    },
    {
      "cell_type": "markdown",
      "metadata": {
        "id": "U_6Oo1vlAA-1"
      },
      "source": [
        "### Попытка оптимизировать гиперпараметры модели"
      ]
    },
    {
      "cell_type": "code",
      "execution_count": null,
      "metadata": {
        "colab": {
          "base_uri": "https://localhost:8080/"
        },
        "id": "x0Plm39xAVVi",
        "outputId": "6a4c8c17-a3d2-4a72-af8b-7eaf073f2d88"
      },
      "outputs": [
        {
          "name": "stdout",
          "output_type": "stream",
          "text": [
            "Best parameters:  {'learning_rate': 0.1, 'max_depth': 7, 'max_leaf_nodes': 30, 'min_samples_leaf': 10}\n",
            "Best accuracy:  0.764\n"
          ]
        }
      ],
      "source": [
        "# Определение гиперпараметров для поиска\n",
        "param_grid = {\n",
        "    'learning_rate': [0.01, 0.1],\n",
        "    'max_depth': [3, 5, 7],\n",
        "    'min_samples_leaf': [10, 20, 30],\n",
        "    'max_leaf_nodes': [30, 50, 70]\n",
        "}\n",
        "\n",
        "# Создание экземпляра GridSearchCV\n",
        "grid_search = GridSearchCV(model_hist_with_cat, param_grid, cv=5, scoring='accuracy')\n",
        "\n",
        "# Обучение модели с использованием поиска по сетке\n",
        "grid_search.fit(X_train, y_train)\n",
        "\n",
        "# Вывод наилучших параметров\n",
        "print(\"Best parameters: \", grid_search.best_params_)\n",
        "\n",
        "# Вывод наилучшей точности\n",
        "print(\"Best accuracy: \", grid_search.best_score_)"
      ]
    },
    {
      "cell_type": "code",
      "execution_count": null,
      "metadata": {
        "id": "PJeYEb_VBO7K"
      },
      "outputs": [],
      "source": [
        "# Создание и обучение модели с оптимизированными параметрами\n",
        "model_hist_opt = HistGradientBoostingClassifier(\n",
        "    categorical_features=categorical_features_indices,\n",
        "    learning_rate=0.1,\n",
        "    max_depth=7,\n",
        "    max_leaf_nodes=30,\n",
        "    min_samples_leaf=10,\n",
        "    random_state=42)\n",
        "model_hist_opt.fit(X_train, y_train)\n",
        "\n",
        "# Предсказание на тренировочной и валидационной выборках\n",
        "y_train_pred_hist_opt = model_hist_opt.predict(X_train)\n",
        "y_test_pred_hist_opt = model_hist_opt.predict(X_test)"
      ]
    },
    {
      "cell_type": "markdown",
      "metadata": {
        "id": "KAwRvoKeB8Ic"
      },
      "source": [
        "#### Анализ полученного решения"
      ]
    },
    {
      "cell_type": "code",
      "execution_count": null,
      "metadata": {
        "colab": {
          "base_uri": "https://localhost:8080/",
          "height": 500
        },
        "id": "XB8Xx5iSB_2F",
        "outputId": "cd94b1a5-2688-42b9-84fe-3a1987be6f07"
      },
      "outputs": [
        {
          "name": "stdout",
          "output_type": "stream",
          "text": [
            "Точность на тренировочной выборке: 0.997\n",
            "Точность на валидационной выборке: 0.760\n",
            "\n",
            "Полнота на тренировочной выборке: 1.000\n",
            "Полнота на валидационной выборке: 0.851\n",
            "\n",
            "F-мера на тренировочной выборке: 0.998\n",
            "F-мера на валидационной выборке: 0.832\n",
            "\n",
            "ROC AUC на тренировочной выборке: 0.996\n",
            "ROC AUC на валидационной выборке: 0.699\n",
            "\n",
            "----------------------------------------\n",
            "Матрица ошибок:\n"
          ]
        },
        {
          "data": {
            "text/plain": [
              "array([[ 41,  34],\n",
              "       [ 26, 149]])"
            ]
          },
          "metadata": {},
          "output_type": "display_data"
        },
        {
          "name": "stdout",
          "output_type": "stream",
          "text": [
            "\n",
            "истинно отрицательные (True Negatives, TN)\t 41\n",
            "ложно положительные (False Positives, FP)\t 34\n",
            "ложно отрицательные (False Negatives, FN)\t 26\n",
            "истинно положительные (True Positives, TP)\t 149\n",
            "\n",
            "----------------------------------------\n",
            "Важность признаков:\n",
            "Account Balance: 0.066 +/- 0.019\n",
            "Duration of Credit (month): 0.038 +/- 0.014\n"
          ]
        }
      ],
      "source": [
        "train_accuracy = accuracy_score(y_train, y_train_pred_hist_opt)\n",
        "test_accuracy = accuracy_score(y_test, y_test_pred_hist_opt)\n",
        "print(f'Точность на тренировочной выборке: {train_accuracy:.3f}')\n",
        "print(f'Точность на валидационной выборке: {test_accuracy:.3f}')\n",
        "print()\n",
        "train_recall = recall_score(y_train, y_train_pred_hist_opt)\n",
        "test_recall = recall_score(y_test, y_test_pred_hist_opt)\n",
        "print(f'Полнота на тренировочной выборке: {train_recall:.3f}')\n",
        "print(f'Полнота на валидационной выборке: {test_recall:.3f}')\n",
        "print()\n",
        "train_f1 = f1_score(y_train, y_train_pred_hist_opt)\n",
        "test_f1 = f1_score(y_test, y_test_pred_hist_opt)\n",
        "print(f'F-мера на тренировочной выборке: {train_f1:.3f}')\n",
        "print(f'F-мера на валидационной выборке: {test_f1:.3f}')\n",
        "print()\n",
        "train_roc_auc = roc_auc_score(y_train, y_train_pred_hist_opt)\n",
        "test_roc_auc = roc_auc_score(y_test, y_test_pred_hist_opt)\n",
        "print(f'ROC AUC на тренировочной выборке: {train_roc_auc:.3f}')\n",
        "print(f'ROC AUC на валидационной выборке: {test_roc_auc:.3f}')\n",
        "print()\n",
        "\n",
        "cm = confusion_matrix(y_test, y_test_pred_hist_opt)\n",
        "print('-' * 40)\n",
        "print(\"Матрица ошибок:\")\n",
        "display(cm)\n",
        "print()\n",
        "\n",
        "tn, fp, fn, tp = confusion_matrix(y_test, y_test_pred_hist_opt).ravel()\n",
        "print('истинно отрицательные (True Negatives, TN)\\t', tn)\n",
        "print('ложно положительные (False Positives, FP)\\t', fp)\n",
        "print('ложно отрицательные (False Negatives, FN)\\t', fn)\n",
        "print('истинно положительные (True Positives, TP)\\t', tp)\n",
        "print()\n",
        "\n",
        "# Вычисление важности признаков с помощью перестановочного метода\n",
        "result = permutation_importance(model_hist_opt, X_test, y_test, n_repeats=10, random_state=42)\n",
        "print('-' * 40)\n",
        "# Вывод важности признаков\n",
        "print('Важность признаков:')\n",
        "for i in result.importances_mean.argsort()[::-1]:\n",
        "    if result.importances_mean[i] - 2 * result.importances_std[i] > 0:\n",
        "        print(f\"{list(X_test.columns)[i]}: \"\n",
        "              f\"{result.importances_mean[i]:.3f}\"\n",
        "              f\" +/- {result.importances_std[i]:.3f}\")"
      ]
    },
    {
      "cell_type": "markdown",
      "metadata": {
        "id": "88YSi3osCpuy"
      },
      "source": [
        "Такая оптимизация быстрая \"на глаз\" не принесла положительных результатов."
      ]
    },
    {
      "cell_type": "markdown",
      "metadata": {
        "id": "jA9KYfMRC-7A"
      },
      "source": [
        "## CatBoost"
      ]
    },
    {
      "cell_type": "markdown",
      "metadata": {
        "id": "Cpw1ogkmDE8m"
      },
      "source": [
        "### Добавление в модель категориальных признаков"
      ]
    },
    {
      "cell_type": "code",
      "execution_count": null,
      "metadata": {
        "id": "Qvh39dNR2Zug"
      },
      "outputs": [],
      "source": [
        "# Создание экземпляра CatBoostClassifier с указанием категориальных признаков\n",
        "model_cb_with_cat = CatBoostClassifier(verbose=False, random_state=42,\n",
        "                                       cat_features=categorical_features_indices)\n",
        "\n",
        "# Обучение модели на тренировочных данных\n",
        "model_cb_with_cat.fit(X_train, y_train, verbose=False)\n",
        "\n",
        "# Предсказание на тренировочной и валидационной выборках\n",
        "y_train_pred_cb_with_cat = model_cb_with_cat.predict(X_train)\n",
        "y_test_pred_cb_with_cat = model_cb_with_cat.predict(X_test)"
      ]
    },
    {
      "cell_type": "markdown",
      "metadata": {
        "id": "RYYbEQGh3jZn"
      },
      "source": [
        "#### Анализ полученного решения"
      ]
    },
    {
      "cell_type": "code",
      "execution_count": null,
      "metadata": {
        "colab": {
          "base_uri": "https://localhost:8080/",
          "height": 896
        },
        "id": "Bi8RxC0k3q9f",
        "outputId": "c5336103-dfa3-4765-a4aa-eaef8d6fb4f5"
      },
      "outputs": [
        {
          "name": "stdout",
          "output_type": "stream",
          "text": [
            "Точность на тренировочной выборке: 0.849\n",
            "Точность на валидационной выборке: 0.760\n",
            "\n",
            "Полнота на тренировочной выборке: 0.975\n",
            "Полнота на валидационной выборке: 0.903\n",
            "\n",
            "F-мера на тренировочной выборке: 0.901\n",
            "F-мера на валидационной выборке: 0.840\n",
            "\n",
            "ROC AUC на тренировочной выборке: 0.765\n",
            "ROC AUC на валидационной выборке: 0.665\n",
            "\n",
            "----------------------------------------\n",
            "Матрица ошибок:\n"
          ]
        },
        {
          "data": {
            "text/plain": [
              "array([[ 32,  43],\n",
              "       [ 17, 158]])"
            ]
          },
          "metadata": {},
          "output_type": "display_data"
        },
        {
          "name": "stdout",
          "output_type": "stream",
          "text": [
            "\n",
            "истинно отрицательные (True Negatives, TN)\t 32\n",
            "ложно положительные (False Positives, FP)\t 43\n",
            "ложно отрицательные (False Negatives, FN)\t 17\n",
            "истинно положительные (True Positives, TP)\t 158\n",
            "\n"
          ]
        },
        {
          "data": {
            "image/png": "[encoded data removed]",
            "text/plain": [
              "<Figure size 800x500 with 1 Axes>"
            ]
          },
          "metadata": {},
          "output_type": "display_data"
        }
      ],
      "source": [
        "train_accuracy = accuracy_score(y_train, y_train_pred_cb_with_cat)\n",
        "test_accuracy = accuracy_score(y_test, y_test_pred_cb_with_cat)\n",
        "print(f'Точность на тренировочной выборке: {train_accuracy:.3f}')\n",
        "print(f'Точность на валидационной выборке: {test_accuracy:.3f}')\n",
        "print()\n",
        "train_recall = recall_score(y_train, y_train_pred_cb_with_cat)\n",
        "test_recall = recall_score(y_test, y_test_pred_cb_with_cat)\n",
        "print(f'Полнота на тренировочной выборке: {train_recall:.3f}')\n",
        "print(f'Полнота на валидационной выборке: {test_recall:.3f}')\n",
        "print()\n",
        "train_f1 = f1_score(y_train, y_train_pred_cb_with_cat)\n",
        "test_f1 = f1_score(y_test, y_test_pred_cb_with_cat)\n",
        "print(f'F-мера на тренировочной выборке: {train_f1:.3f}')\n",
        "print(f'F-мера на валидационной выборке: {test_f1:.3f}')\n",
        "print()\n",
        "train_roc_auc = roc_auc_score(y_train, y_train_pred_cb_with_cat)\n",
        "test_roc_auc = roc_auc_score(y_test, y_test_pred_cb_with_cat)\n",
        "print(f'ROC AUC на тренировочной выборке: {train_roc_auc:.3f}')\n",
        "print(f'ROC AUC на валидационной выборке: {test_roc_auc:.3f}')\n",
        "print()\n",
        "\n",
        "cm = confusion_matrix(y_test, y_test_pred_cb_with_cat)\n",
        "print('-' * 40)\n",
        "print(\"Матрица ошибок:\")\n",
        "display(cm)\n",
        "print()\n",
        "\n",
        "tn, fp, fn, tp = confusion_matrix(y_test, y_test_pred_cb_with_cat).ravel()\n",
        "print('истинно отрицательные (True Negatives, TN)\\t', tn)\n",
        "print('ложно положительные (False Positives, FP)\\t', fp)\n",
        "print('ложно отрицательные (False Negatives, FN)\\t', fn)\n",
        "print('истинно положительные (True Positives, TP)\\t', tp)\n",
        "print()\n",
        "\n",
        "# Получение важности признаков\n",
        "importances = model_cb_with_cat.get_feature_importance(type='PredictionValuesChange')\n",
        "\n",
        "# Создание pandas Series для удобства визуализации\n",
        "feature_importances = pd.Series(importances, index=X_train.columns).sort_values(ascending=False)\n",
        "\n",
        "# Визуализация важности признаков\n",
        "plt.figure(figsize=(8, 5))\n",
        "plt.barh(feature_importances.index, feature_importances.values)\n",
        "plt.title('CatBoost Feature Importance')\n",
        "plt.xlabel('Importance')\n",
        "plt.ylabel('Features')\n",
        "plt.show()"
      ]
    },
    {
      "cell_type": "markdown",
      "metadata": {
        "id": "eMkxfMDm5oIh"
      },
      "source": [
        "Отметим, что после добавления категориальных признаков на тренировочных данных метрики модели изменились незначительно.\n",
        "\n",
        "На валидационных данных:\n",
        "- точность возросла с 0.72 до 0.76,\n",
        "- полнота уменьшилась с 0.94 до 0.90,\n",
        "- F-мера возрасла с 0.83 до 0.84,\n",
        "- ROC AUC вырос с 0.58 до 0.67.\n",
        "\n",
        "Матрица ошибок показывает улучшение модели в определении отрицательных случаев, но при этом ухудшение положительных.\n",
        "\n",
        "Самым важным признаком оказался `Account Balance`. `Duration of Credit (month)` - второй по важности, а `Credit Amount` замыкает шестерку наиболее важных признаков.\n",
        "\n",
        "Таким образом, добавление категориальных признаков незначительно, но улучшило модель."
      ]
    },
    {
      "cell_type": "markdown",
      "metadata": {
        "id": "tp1Y1xNs8HSH"
      },
      "source": [
        "### Попытка оптимизировать гиперпараметры модели"
      ]
    },
    {
      "cell_type": "code",
      "execution_count": null,
      "metadata": {
        "colab": {
          "base_uri": "https://localhost:8080/"
        },
        "id": "4IHMsCXr9Ab3",
        "outputId": "d1e25bfd-8434-4ca0-abdb-e2302855b9db"
      },
      "outputs": [
        {
          "name": "stderr",
          "output_type": "stream",
          "text": [
            "[I 2024-03-30 06:08:50,664] A new study created in memory with name: no-name-059b10c3-b71f-44a8-9494-2134f65d08a6\n",
            "[I 2024-03-30 06:08:51,497] Trial 0 finished with value: 0.48579831205964474 and parameters: {'learning_rate': 0.04529412961260076, 'depth': 3, 'subsample': 0.49246493423712145, 'colsample_bylevel': 0.8595258084065421, 'min_data_in_leaf': 96}. Best is trial 0 with value: 0.48579831205964474.\n",
            "[I 2024-03-30 06:08:52,271] Trial 1 finished with value: 0.4939635614091388 and parameters: {'learning_rate': 0.004125134529148226, 'depth': 3, 'subsample': 0.3329343262485561, 'colsample_bylevel': 0.6371393114516493, 'min_data_in_leaf': 100}. Best is trial 0 with value: 0.48579831205964474.\n",
            "[I 2024-03-30 06:08:56,181] Trial 2 finished with value: 0.5019960159204453 and parameters: {'learning_rate': 0.03294801500598226, 'depth': 10, 'subsample': 0.5574716149162697, 'colsample_bylevel': 0.414621857802143, 'min_data_in_leaf': 97}. Best is trial 0 with value: 0.48579831205964474.\n",
            "[I 2024-03-30 06:08:56,925] Trial 3 finished with value: 0.5176871642217914 and parameters: {'learning_rate': 0.0020206756483105597, 'depth': 3, 'subsample': 0.3441077266426362, 'colsample_bylevel': 0.4925447499833798, 'min_data_in_leaf': 49}. Best is trial 0 with value: 0.48579831205964474.\n",
            "[I 2024-03-30 06:08:57,536] Trial 4 finished with value: 0.4774934554525329 and parameters: {'learning_rate': 0.07209297910283471, 'depth': 1, 'subsample': 0.9317535208005757, 'colsample_bylevel': 0.9036979732813557, 'min_data_in_leaf': 96}. Best is trial 4 with value: 0.4774934554525329.\n",
            "[I 2024-03-30 06:08:58,137] Trial 5 finished with value: 0.48166378315169184 and parameters: {'learning_rate': 0.02502330126428743, 'depth': 1, 'subsample': 0.6612792877582604, 'colsample_bylevel': 0.5524492099403242, 'min_data_in_leaf': 63}. Best is trial 4 with value: 0.4774934554525329.\n",
            "[I 2024-03-30 06:09:00,779] Trial 6 finished with value: 0.4732863826479693 and parameters: {'learning_rate': 0.024136065112256983, 'depth': 7, 'subsample': 0.20128826758096446, 'colsample_bylevel': 0.6557961272632206, 'min_data_in_leaf': 28}. Best is trial 6 with value: 0.4732863826479693.\n",
            "[I 2024-03-30 06:09:01,880] Trial 7 finished with value: 0.46475800154489 and parameters: {'learning_rate': 0.016416997674059547, 'depth': 3, 'subsample': 0.3709919905995578, 'colsample_bylevel': 0.08291795697737811, 'min_data_in_leaf': 66}. Best is trial 7 with value: 0.46475800154489.\n",
            "[I 2024-03-30 06:09:04,145] Trial 8 finished with value: 0.4732863826479693 and parameters: {'learning_rate': 0.012043504734394623, 'depth': 7, 'subsample': 0.825200686306915, 'colsample_bylevel': 0.409926762483223, 'min_data_in_leaf': 11}. Best is trial 7 with value: 0.46475800154489.\n",
            "[I 2024-03-30 06:09:04,987] Trial 9 finished with value: 0.5099019513592785 and parameters: {'learning_rate': 0.0016248232642635892, 'depth': 4, 'subsample': 0.5449150468728711, 'colsample_bylevel': 0.5324367037345322, 'min_data_in_leaf': 90}. Best is trial 7 with value: 0.46475800154489.\n",
            "[I 2024-03-30 06:09:05,624] Trial 10 finished with value: 0.5176871642217914 and parameters: {'learning_rate': 0.007217018785459328, 'depth': 6, 'subsample': 0.08845863166021184, 'colsample_bylevel': 0.05145782280561867, 'min_data_in_leaf': 68}. Best is trial 7 with value: 0.46475800154489.\n",
            "[I 2024-03-30 06:09:06,335] Trial 11 finished with value: 0.469041575982343 and parameters: {'learning_rate': 0.015186684454501402, 'depth': 8, 'subsample': 0.12140411612189665, 'colsample_bylevel': 0.07430363130105022, 'min_data_in_leaf': 24}. Best is trial 7 with value: 0.46475800154489.\n",
            "[I 2024-03-30 06:09:06,975] Trial 12 finished with value: 0.5019960159204453 and parameters: {'learning_rate': 0.011783982421619358, 'depth': 9, 'subsample': 0.06221098313617134, 'colsample_bylevel': 0.05395789003566164, 'min_data_in_leaf': 35}. Best is trial 7 with value: 0.46475800154489.\n",
            "[I 2024-03-30 06:09:08,330] Trial 13 finished with value: 0.469041575982343 and parameters: {'learning_rate': 0.005802853349872156, 'depth': 8, 'subsample': 0.2662287281646132, 'colsample_bylevel': 0.23509769897468671, 'min_data_in_leaf': 16}. Best is trial 7 with value: 0.46475800154489.\n",
            "[I 2024-03-30 06:09:09,121] Trial 14 finished with value: 0.46475800154489 and parameters: {'learning_rate': 0.017301239190717455, 'depth': 5, 'subsample': 0.39827724965793565, 'colsample_bylevel': 0.20909711897899846, 'min_data_in_leaf': 75}. Best is trial 7 with value: 0.46475800154489.\n",
            "[I 2024-03-30 06:09:09,978] Trial 15 finished with value: 0.5059644256269407 and parameters: {'learning_rate': 0.0030057037412848163, 'depth': 5, 'subsample': 0.423981465357572, 'colsample_bylevel': 0.2373514283504745, 'min_data_in_leaf': 76}. Best is trial 7 with value: 0.46475800154489.\n",
            "[I 2024-03-30 06:09:10,835] Trial 16 finished with value: 0.45607017003965516 and parameters: {'learning_rate': 0.018156381864795502, 'depth': 5, 'subsample': 0.7605288365539202, 'colsample_bylevel': 0.2192698103384754, 'min_data_in_leaf': 52}. Best is trial 16 with value: 0.45607017003965516.\n",
            "[I 2024-03-30 06:09:11,650] Trial 17 finished with value: 0.48579831205964474 and parameters: {'learning_rate': 0.08263814337362493, 'depth': 2, 'subsample': 0.7152680997444549, 'colsample_bylevel': 0.18428063205377856, 'min_data_in_leaf': 49}. Best is trial 16 with value: 0.45607017003965516.\n",
            "[I 2024-03-30 06:09:13,067] Trial 18 finished with value: 0.4604345773288535 and parameters: {'learning_rate': 0.007254966266636194, 'depth': 4, 'subsample': 0.9605344857225688, 'colsample_bylevel': 0.30453581016642867, 'min_data_in_leaf': 1}. Best is trial 16 with value: 0.45607017003965516.\n",
            "[I 2024-03-30 06:09:14,480] Trial 19 finished with value: 0.4732863826479693 and parameters: {'learning_rate': 0.006227816531717056, 'depth': 6, 'subsample': 0.9616605116847041, 'colsample_bylevel': 0.34171014957642776, 'min_data_in_leaf': 39}. Best is trial 16 with value: 0.45607017003965516.\n",
            "[I 2024-03-30 06:09:15,315] Trial 20 finished with value: 0.4979959839195493 and parameters: {'learning_rate': 0.003168462133716268, 'depth': 4, 'subsample': 0.8337483669972251, 'colsample_bylevel': 0.32575594205703906, 'min_data_in_leaf': 2}. Best is trial 16 with value: 0.45607017003965516.\n",
            "[I 2024-03-30 06:09:16,063] Trial 21 finished with value: 0.4732863826479693 and parameters: {'learning_rate': 0.010125085215263466, 'depth': 4, 'subsample': 0.8417228614602945, 'colsample_bylevel': 0.15426385231206252, 'min_data_in_leaf': 59}. Best is trial 16 with value: 0.45607017003965516.\n",
            "[I 2024-03-30 06:09:16,753] Trial 22 finished with value: 0.4774934554525329 and parameters: {'learning_rate': 0.04640566248804035, 'depth': 2, 'subsample': 0.6922142243821264, 'colsample_bylevel': 0.3067594266320155, 'min_data_in_leaf': 54}. Best is trial 16 with value: 0.45607017003965516.\n",
            "[I 2024-03-30 06:09:17,530] Trial 23 finished with value: 0.4774934554525329 and parameters: {'learning_rate': 0.02007734487692596, 'depth': 5, 'subsample': 0.9071440584345332, 'colsample_bylevel': 0.13656271638679074, 'min_data_in_leaf': 40}. Best is trial 16 with value: 0.45607017003965516.\n",
            "[I 2024-03-30 06:09:18,322] Trial 24 finished with value: 0.46475800154489 and parameters: {'learning_rate': 0.008974367185050593, 'depth': 4, 'subsample': 0.747758873641629, 'colsample_bylevel': 0.271815352184281, 'min_data_in_leaf': 83}. Best is trial 16 with value: 0.45607017003965516.\n",
            "[I 2024-03-30 06:09:19,013] Trial 25 finished with value: 0.5440588203494178 and parameters: {'learning_rate': 0.0010420825230253838, 'depth': 2, 'subsample': 0.9904612779732846, 'colsample_bylevel': 0.40485827089842563, 'min_data_in_leaf': 70}. Best is trial 16 with value: 0.45607017003965516.\n",
            "[I 2024-03-30 06:09:19,708] Trial 26 finished with value: 0.48579831205964474 and parameters: {'learning_rate': 0.036301416167384214, 'depth': 3, 'subsample': 0.6249635392406128, 'colsample_bylevel': 0.13329342743086486, 'min_data_in_leaf': 45}. Best is trial 16 with value: 0.45607017003965516.\n",
            "[I 2024-03-30 06:09:21,050] Trial 27 finished with value: 0.4732863826479693 and parameters: {'learning_rate': 0.004597460689708129, 'depth': 6, 'subsample': 0.7703575123509119, 'colsample_bylevel': 0.7920127985056363, 'min_data_in_leaf': 55}. Best is trial 16 with value: 0.45607017003965516.\n",
            "[I 2024-03-30 06:09:21,854] Trial 28 finished with value: 0.4732863826479693 and parameters: {'learning_rate': 0.014296195378856687, 'depth': 5, 'subsample': 0.8850887912976144, 'colsample_bylevel': 0.14322930303890652, 'min_data_in_leaf': 31}. Best is trial 16 with value: 0.45607017003965516.\n",
            "[I 2024-03-30 06:09:22,854] Trial 29 finished with value: 0.4604345773288535 and parameters: {'learning_rate': 0.008743861930174228, 'depth': 4, 'subsample': 0.43844718392284704, 'colsample_bylevel': 0.9889966625118528, 'min_data_in_leaf': 63}. Best is trial 16 with value: 0.45607017003965516.\n"
          ]
        }
      ],
      "source": [
        "def objective(trial):\n",
        "    # использует гиперпараметры, предложенные Optuna, для обучения модели CatBoostClassifier\n",
        "    params = {\n",
        "        \"iterations\": 1000,\n",
        "        \"learning_rate\": trial.suggest_float(\"learning_rate\", 1e-3, 0.1, log=True),\n",
        "        \"depth\": trial.suggest_int(\"depth\", 1, 10),\n",
        "        \"subsample\": trial.suggest_float(\"subsample\", 0.05, 1.0),\n",
        "        \"colsample_bylevel\": trial.suggest_float(\"colsample_bylevel\", 0.05, 1.0),\n",
        "        \"min_data_in_leaf\": trial.suggest_int(\"min_data_in_leaf\", 1, 100),\n",
        "    }\n",
        "\n",
        "    model = CatBoostClassifier(**params, silent=True)\n",
        "    model.fit(X_train, y_train)\n",
        "    predictions = model.predict(X_test)\n",
        "    rmse = mean_squared_error(y_test, predictions, squared=False)\n",
        "    return rmse\n",
        "\n",
        "\n",
        "# study используется для оптимизации функции objective с целью минимизации RMSE\n",
        "study = optuna.create_study(direction='minimize')\n",
        "study.optimize(objective, n_trials=30)"
      ]
    },
    {
      "cell_type": "code",
      "execution_count": null,
      "metadata": {
        "colab": {
          "base_uri": "https://localhost:8080/"
        },
        "id": "GFMrdBqt-1ik",
        "outputId": "a3a32f42-3d7b-48b2-b58d-328123edf2b8"
      },
      "outputs": [
        {
          "data": {
            "text/plain": [
              "{'learning_rate': 0.018156381864795502,\n",
              " 'depth': 5,\n",
              " 'subsample': 0.7605288365539202,\n",
              " 'colsample_bylevel': 0.2192698103384754,\n",
              " 'min_data_in_leaf': 52}"
            ]
          },
          "execution_count": 22,
          "metadata": {},
          "output_type": "execute_result"
        }
      ],
      "source": [
        "# Получение лучших гиперпараметров\n",
        "best_params = study.best_params\n",
        "best_params"
      ]
    },
    {
      "cell_type": "code",
      "execution_count": null,
      "metadata": {
        "id": "HJOAZ2H3_BeG"
      },
      "outputs": [],
      "source": [
        "# Создание и обучение модели с лучшими гиперпараметрами\n",
        "model_cb_opt = CatBoostClassifier(**best_params, verbose=False, random_state=42)\n",
        "model_cb_opt.fit(X_train, y_train, verbose=False)\n",
        "\n",
        "# Предсказание на тренировочной и валидационной выборках\n",
        "y_train_pred_cb_opt = model_cb_opt.predict(X_train)\n",
        "y_test_pred_cb_opt = model_cb_opt.predict(X_test)"
      ]
    },
    {
      "cell_type": "markdown",
      "metadata": {
        "id": "l2Ql6Sfs_tUm"
      },
      "source": [
        "#### Анализ полученного решения"
      ]
    },
    {
      "cell_type": "code",
      "execution_count": null,
      "metadata": {
        "colab": {
          "base_uri": "https://localhost:8080/",
          "height": 896
        },
        "id": "uIzeNb3Z_6hJ",
        "outputId": "65a9dff3-f95e-4965-e12d-265edf5ca2af"
      },
      "outputs": [
        {
          "name": "stdout",
          "output_type": "stream",
          "text": [
            "Точность на тренировочной выборке: 0.976\n",
            "Точность на валидационной выборке: 0.772\n",
            "\n",
            "Полнота на тренировочной выборке: 0.998\n",
            "Полнота на валидационной выборке: 0.869\n",
            "\n",
            "F-мера на тренировочной выборке: 0.983\n",
            "F-мера на валидационной выборке: 0.842\n",
            "\n",
            "ROC AUC на тренировочной выборке: 0.961\n",
            "ROC AUC на валидационной выборке: 0.708\n",
            "\n",
            "----------------------------------------\n",
            "Матрица ошибок:\n"
          ]
        },
        {
          "data": {
            "text/plain": [
              "array([[ 41,  34],\n",
              "       [ 23, 152]])"
            ]
          },
          "metadata": {},
          "output_type": "display_data"
        },
        {
          "name": "stdout",
          "output_type": "stream",
          "text": [
            "\n",
            "истинно отрицательные (True Negatives, TN)\t 41\n",
            "ложно положительные (False Positives, FP)\t 34\n",
            "ложно отрицательные (False Negatives, FN)\t 23\n",
            "истинно положительные (True Positives, TP)\t 152\n",
            "\n"
          ]
        },
        {
          "data": {
            "image/png": "[encoded data removed]",
            "text/plain": [
              "<Figure size 800x500 with 1 Axes>"
            ]
          },
          "metadata": {},
          "output_type": "display_data"
        }
      ],
      "source": [
        "train_accuracy = accuracy_score(y_train, y_train_pred_cb_opt)\n",
        "test_accuracy = accuracy_score(y_test, y_test_pred_cb_opt)\n",
        "print(f'Точность на тренировочной выборке: {train_accuracy:.3f}')\n",
        "print(f'Точность на валидационной выборке: {test_accuracy:.3f}')\n",
        "print()\n",
        "train_recall = recall_score(y_train, y_train_pred_cb_opt)\n",
        "test_recall = recall_score(y_test, y_test_pred_cb_opt)\n",
        "print(f'Полнота на тренировочной выборке: {train_recall:.3f}')\n",
        "print(f'Полнота на валидационной выборке: {test_recall:.3f}')\n",
        "print()\n",
        "train_f1 = f1_score(y_train, y_train_pred_cb_opt)\n",
        "test_f1 = f1_score(y_test, y_test_pred_cb_opt)\n",
        "print(f'F-мера на тренировочной выборке: {train_f1:.3f}')\n",
        "print(f'F-мера на валидационной выборке: {test_f1:.3f}')\n",
        "print()\n",
        "train_roc_auc = roc_auc_score(y_train, y_train_pred_cb_opt)\n",
        "test_roc_auc = roc_auc_score(y_test, y_test_pred_cb_opt)\n",
        "print(f'ROC AUC на тренировочной выборке: {train_roc_auc:.3f}')\n",
        "print(f'ROC AUC на валидационной выборке: {test_roc_auc:.3f}')\n",
        "print()\n",
        "\n",
        "cm = confusion_matrix(y_test, y_test_pred_cb_opt)\n",
        "print('-' * 40)\n",
        "print(\"Матрица ошибок:\")\n",
        "display(cm)\n",
        "print()\n",
        "\n",
        "tn, fp, fn, tp = confusion_matrix(y_test, y_test_pred_cb_opt).ravel()\n",
        "print('истинно отрицательные (True Negatives, TN)\\t', tn)\n",
        "print('ложно положительные (False Positives, FP)\\t', fp)\n",
        "print('ложно отрицательные (False Negatives, FN)\\t', fn)\n",
        "print('истинно положительные (True Positives, TP)\\t', tp)\n",
        "print()\n",
        "\n",
        "# Получение важности признаков\n",
        "importances = model_cb_opt.get_feature_importance(type='PredictionValuesChange')\n",
        "\n",
        "# Создание pandas Series для удобства визуализации\n",
        "feature_importances = pd.Series(importances, index=X_train.columns).sort_values(ascending=False)\n",
        "\n",
        "# Визуализация важности признаков\n",
        "plt.figure(figsize=(8, 5))\n",
        "plt.barh(feature_importances.index, feature_importances.values)\n",
        "plt.title('CatBoost Feature Importance')\n",
        "plt.xlabel('Importance')\n",
        "plt.ylabel('Features')\n",
        "plt.show()"
      ]
    },
    {
      "cell_type": "markdown",
      "metadata": {
        "id": "z7zwYDV_Bofs"
      },
      "source": [
        "Проведенная довольно быстрая оптимизация не привела к значительным улучшением метрик модели на валидационных данных:\n",
        "- точность возросла с 0.76 до 0.77,\n",
        "- полнота уменьшилась с 0.90 до 0.87,\n",
        "- F-мера осталась 0.84,\n",
        "- ROC AUC вырос с 0.67 до 0.71.\n",
        "\n",
        "Матрица ошибок показывает еще большее улучшение модели в определении отрицательных случаев, и еще большее ухудшение положительных.\n",
        "\n",
        "Претерпела изменение тройка самых важных признаков:\n",
        "1. `Account Balance`,\n",
        "2. `Credit Amount`,\n",
        "3. `Duration of Credit (month)`.\n",
        "\n",
        "Обратим внимание, что возраст стал играть немаловожную роль в принятии решения моделью."
      ]
    },
    {
      "cell_type": "markdown",
      "metadata": {
        "id": "yee654xYDzJ9"
      },
      "source": [
        "## Текущие выводы"
      ]
    },
    {
      "cell_type": "markdown",
      "metadata": {
        "id": "2GOnIZdJD3cm"
      },
      "source": [
        "Таким образом добавление в модель sklearn категориальных признаков значительно улучшило ее.\n",
        "\n",
        "В случае же с CatBoost улучшение незначительно.\n",
        "\n",
        "Проведенная наспех оптимизация не привела к значимым улучшениям, можно даже говорить об ухудшении результатов в обоих случаях.\n",
        "\n",
        "Можно предположить, что требуется более глубокая затратная по времени оптимизация параметров.\n",
        "\n",
        "Также можно заявить, что работа обеих моделей с параметрами по умолчанию дает хорошие результаты."
      ]
    },
    {
      "cell_type": "markdown",
      "metadata": {
        "id": "rWX-VYLfFTdv"
      },
      "source": [
        "# Сравнение выбранных ансамблевых моделей"
      ]
    },
    {
      "cell_type": "markdown",
      "metadata": {
        "id": "L_m00eeTHY0s"
      },
      "source": [
        "## между собой"
      ]
    },
    {
      "cell_type": "markdown",
      "metadata": {
        "id": "NtISEf8ZKQfa"
      },
      "source": [
        "Производительность: `CatBoostClassifier` показывает более высокую точность и полноту на тренировочных данных по сравнению с `HistGradientBoostingClassifier`. Однако, на валидационных данных производительность `CatBoostClassifier` снижается, что может указывать на переобучение.\n",
        "\n",
        "Важность признаков: Для `HistGradientBoostingClassifier` наиболее важными признаками являются \"Duration of Credit (month)\" и \"Credit Amount\", в то время как для `CatBoostClassifier` - \"Account Balance\" и \"Credit Amount\". Это указывает на различия в подходах моделей к выбору наиболее важных признаков.\n",
        "\n",
        "Распределение ошибок: Обе модели показывают схожую тенденцию к ошибкам в предсказании отрицательных случаев, но `CatBoostClassifier` лучше справляется с положительными случаями."
      ]
    },
    {
      "cell_type": "markdown",
      "metadata": {
        "id": "t1QpGhbtMi1n"
      },
      "source": [
        "## с метод опорных векторов SVC из первого домашнего задания"
      ]
    },
    {
      "cell_type": "markdown",
      "metadata": {
        "id": "E2ObznwlMphL"
      },
      "source": [
        "Производительность: `CatBoostClassifier` показывает более высокую точность и полноту на тренировочных данных по сравнению с `HistGradientBoostingClassifier` и `SVC`. Однако, на валидационных данных производительность `CatBoostClassifier` снижается, что может указывать на переобучение. `HistGradientBoostingClassifier` показывает более стабильную производительность, но с меньшей точностью и полнотой на валидационных данных. `SVC` показывает наиболее низкую производительность по сравнению с двумя ансамблевыми моделями.\n",
        "\n",
        "Важность признаков: Для `HistGradientBoostingClassifier` наиболее важными признаками являются \"Duration of Credit (month)\" и \"Credit Amount\", в то время как для `CatBoostClassifier` - \"Account Balance\" и \"Credit Amount\". `SVC` не предоставляет информацию о важности признаков напрямую, но его производительность потенциально может быть улучшена с помощью выбора наиболее важных признаков.\n",
        "\n",
        "Распределение ошибок: `SVC` показывает наиболее высокую полноту, но низкую точность и F-меру, что указывает на проблемы с балансом между классами. `HistGradientBoostingClassifier` и `CatBoostClassifier` показывают более сбалансированное распределение ошибок, но с различными показателями производительности."
      ]
    }
  ],
  "metadata": {
    "colab": {
      "provenance": []
    },
    "kernelspec": {
      "display_name": "mbml_ii_lab3",
      "language": "python",
      "name": "python3"
    },
    "language_info": {
      "codemirror_mode": {
        "name": "ipython",
        "version": 3
      },
      "file_extension": ".py",
      "mimetype": "text/x-python",
      "name": "python",
      "nbconvert_exporter": "python",
      "pygments_lexer": "ipython3",
      "version": "3.12.8"
    }
  },
  "nbformat": 4,
  "nbformat_minor": 0
}
